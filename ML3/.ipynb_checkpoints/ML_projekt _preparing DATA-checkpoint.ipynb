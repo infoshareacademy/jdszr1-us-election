{
 "cells": [
  {
   "cell_type": "markdown",
   "metadata": {},
   "source": [
    "# Pandas - ciąg dalszy"
   ]
  },
  {
   "cell_type": "code",
   "execution_count": 1,
   "metadata": {},
   "outputs": [],
   "source": [
    "import pandas as pd\n",
    "import os\n",
    "\n",
    "df=pd.read_csv"
   ]
  },
  {
   "cell_type": "markdown",
   "metadata": {},
   "source": [
    "#### Dodatkowe przydane funkcje\n",
    "\n",
    "Licznik wartości występujących w serii\n",
    "\n",
    "`.value_counts` i indeksowanie wyniku"
   ]
  },
  {
   "cell_type": "code",
   "execution_count": null,
   "metadata": {},
   "outputs": [],
   "source": [
    "print(example_df[\"name\"].value_counts())\n",
    "\n",
    "imie = \"Bartek\"\n",
    "liczba = example_df[\"name\"].value_counts()[imie]\n",
    "print(f\"\\n{imie} jest {liczba} razy\")"
   ]
  },
  {
   "cell_type": "markdown",
   "metadata": {},
   "source": [
    "Unikalne elementy i ich liczba\n",
    "\n",
    "`.unique` i `.nunique`"
   ]
  },
  {
   "cell_type": "code",
   "execution_count": null,
   "metadata": {},
   "outputs": [],
   "source": [
    "print(example_df[\"name\"].unique())\n",
    "print(example_df[\"name\"].nunique())\n",
    "print(example_df[\"name\"].nunique() == len(example_df[\"name\"]))"
   ]
  },
  {
   "cell_type": "markdown",
   "metadata": {},
   "source": [
    "Wykonanie funkcji na każdym elemencie\n",
    "\n",
    "`.apply` nawet z własnymi funkcjami i lambdami"
   ]
  },
  {
   "cell_type": "code",
   "execution_count": null,
   "metadata": {},
   "outputs": [],
   "source": [
    "def funk(element):\n",
    "    return element + 1\n",
    "\n",
    "print(example_df[\"value\"].apply(funk))\n",
    "print(example_df[\"value\"].apply(lambda x: x ** 2))"
   ]
  },
  {
   "cell_type": "markdown",
   "metadata": {},
   "source": [
    "Usunięcie duplikatów\n",
    "\n",
    "Czy są? `.duplicated`\n",
    "\n",
    "`.drop_duplicates` z opcjonalnym argumentem `subset`\n",
    "\n",
    "Domyślnie zwraca kopie i trzeba pamiętać o indeksach! `.reset_index`"
   ]
  },
  {
   "cell_type": "code",
   "execution_count": null,
   "metadata": {},
   "outputs": [],
   "source": [
    "temp_1 = example_df.copy()\n",
    "print(temp_1)\n",
    "print(temp_1.duplicated().any())\n",
    "print(temp_1.drop_duplicates())\n",
    "print(temp_1.drop_duplicates().reset_index())\n",
    "print(temp_1.drop_duplicates().reset_index(drop=True))\n",
    "print(temp_1.drop_duplicates(subset=[\"name\"], keep=\"last\").reset_index(drop=True))"
   ]
  },
  {
   "cell_type": "markdown",
   "metadata": {},
   "source": [
    "Wybieranie losowej próby\n",
    "\n",
    "`.sample` z argumentami `n` i `frac`\n",
    "\n",
    "i opcjonalne `.sort_index` z `inplace=True`"
   ]
  },
  {
   "cell_type": "code",
   "execution_count": null,
   "metadata": {},
   "outputs": [],
   "source": [
    "print(example_df.sample(n=3))\n",
    "print(example_df.sample(frac=0.5))\n",
    "print(example_df.sample(frac=0.5).sort_index())"
   ]
  },
  {
   "cell_type": "markdown",
   "metadata": {},
   "source": [
    "#### Łączenie dataframe'ów\n",
    "\n",
    "Opcja pierwsza, dodaj wiersze - `pd.concat`\n",
    "\n",
    "i co gdy są różne kolumny?"
   ]
  },
  {
   "cell_type": "code",
   "execution_count": null,
   "metadata": {},
   "outputs": [],
   "source": [
    "more_data = {\n",
    "    \"name\": [\"Bartek\", \"Andrzej\", \"Iwona\", \"Bartek\"],\n",
    "    \"value\": [11, 33, 4, 10]\n",
    "}\n",
    "more_df = pd.DataFrame(more_data)"
   ]
  },
  {
   "cell_type": "code",
   "execution_count": null,
   "metadata": {},
   "outputs": [],
   "source": [
    "result_df = pd.concat([example_df, more_df])\n",
    "result_df.loc[0]"
   ]
  },
  {
   "cell_type": "code",
   "execution_count": null,
   "metadata": {},
   "outputs": [],
   "source": [
    "print(pd.concat([example_df, more_df]))\n",
    "print(pd.concat([example_df, more_df]).reset_index(drop=True))"
   ]
  },
  {
   "cell_type": "markdown",
   "metadata": {},
   "source": [
    "Opcja druga, dodaj kolumny. Podejście pierwsze `pd.concat` z opcjonalnym argumentem `axis=1`\n",
    "\n",
    "I co gdy wierszy jest mniej?"
   ]
  },
  {
   "cell_type": "code",
   "execution_count": null,
   "metadata": {},
   "outputs": [],
   "source": [
    "more_features = {\n",
    "    \"name\": [\"Cyryl\", \"Bartek\", \"Cyryl\", \"Bartek\", \"Andrzej\", \"Metody\", \"Bartek\", \"Jarek\", \"Bartek\", \"Bartek\"],\n",
    "    \"other_value\": [0.1, 4.3, 64.2, 1.5, 7.6, 0.4, 8.4, 9.2, 9.7, 4.4]\n",
    "}\n",
    "more_feat_df = pd.DataFrame(more_features)"
   ]
  },
  {
   "cell_type": "code",
   "execution_count": null,
   "metadata": {},
   "outputs": [],
   "source": [
    "print(pd.concat([example_df, more_feat_df], axis=1))"
   ]
  },
  {
   "cell_type": "markdown",
   "metadata": {},
   "source": [
    "Łączenie kolumnami w kontrolowany sposób\n",
    "\n",
    "`pd.merge` z argumentami `how` i `on`"
   ]
  },
  {
   "cell_type": "code",
   "execution_count": null,
   "metadata": {},
   "outputs": [],
   "source": [
    "unique_ex_df = example_df.drop_duplicates(subset=[\"name\"]).reset_index(drop=True)\n",
    "unique_more_df = more_feat_df.drop_duplicates(subset=[\"name\"]).reset_index(drop=True)\n",
    "print(unique_ex_df)\n",
    "print(unique_more_df)"
   ]
  },
  {
   "cell_type": "code",
   "execution_count": null,
   "metadata": {},
   "outputs": [],
   "source": [
    "pd.merge(unique_ex_df, unique_more_df, on=\"name\", how=\"left\")"
   ]
  },
  {
   "cell_type": "code",
   "execution_count": null,
   "metadata": {},
   "outputs": [],
   "source": [
    "pd.merge(unique_ex_df, unique_more_df, on=\"name\", how=\"right\")"
   ]
  },
  {
   "cell_type": "code",
   "execution_count": null,
   "metadata": {},
   "outputs": [],
   "source": [
    "pd.merge(unique_ex_df, unique_more_df, on=\"name\", how=\"inner\")"
   ]
  },
  {
   "cell_type": "code",
   "execution_count": null,
   "metadata": {},
   "outputs": [],
   "source": [
    "pd.merge(unique_ex_df, unique_more_df, on=\"name\", how=\"outer\")"
   ]
  },
  {
   "cell_type": "markdown",
   "metadata": {},
   "source": [
    "#### Radzenie sobie z NaNami\n",
    "\n",
    "`.isna`, `.dropna`, `.fillna`"
   ]
  },
  {
   "cell_type": "code",
   "execution_count": null,
   "metadata": {},
   "outputs": [],
   "source": [
    "result_df = pd.merge(unique_ex_df, unique_more_df, on=\"name\", how=\"outer\")\n",
    "print(result_df.isna())\n",
    "print(result_df.dropna())\n",
    "print(result_df.fillna(0.0))"
   ]
  },
  {
   "cell_type": "markdown",
   "metadata": {},
   "source": [
    "#### Grupowanie\n",
    "\n",
    "`.groupby` z argumentem `by`"
   ]
  },
  {
   "cell_type": "code",
   "execution_count": null,
   "metadata": {},
   "outputs": [],
   "source": [
    "grouped_df = example_df.groupby(by=\"name\")\n",
    "\n",
    "for key, item in grouped_df:\n",
    "    print(grouped_df.get_group(key))\n",
    "    print()"
   ]
  },
  {
   "cell_type": "markdown",
   "metadata": {},
   "source": [
    "Operacje na grupach\n",
    "\n",
    "`.sum`, `.mean`, `.max`, `.min`, `.count`"
   ]
  },
  {
   "cell_type": "code",
   "execution_count": null,
   "metadata": {},
   "outputs": [],
   "source": [
    "print(grouped_df.sum())\n",
    "print(grouped_df.mean())\n",
    "print(grouped_df.max())\n",
    "print(grouped_df.min())\n",
    "print(grouped_df.count())"
   ]
  },
  {
   "cell_type": "markdown",
   "metadata": {},
   "source": [
    "Dla groupby po wielu rzeczach"
   ]
  },
  {
   "cell_type": "code",
   "execution_count": null,
   "metadata": {},
   "outputs": [],
   "source": [
    "example_data = {\n",
    "    \"name\": [\"Andrzej\", \"Bartek\", \"Cyryl\", \"Bartek\", \"Cyryl\", \"Metody\", \"Andrzej\", \"Iwona\", \"Iwona\", \"Bartek\"],\n",
    "    \"value\": [1, 43, 64, 1, 76, 4, 8, 9, 9, 44],\n",
    "    \"type\": [\"A\", \"B\", \"A\", \"B\", \"A\", \"B\", \"A\", \"B\", \"A\", \"B\"]\n",
    "}\n",
    "example_df = pd.DataFrame(example_data)\n",
    "\n",
    "grouped_df = example_df.groupby(by=[\"type\", \"name\"])\n",
    "\n",
    "for key, value in grouped_df:\n",
    "    print(key)\n",
    "    print(value)\n",
    "    print()\n",
    "\n",
    "print(grouped_df.sum())"
   ]
  },
  {
   "cell_type": "code",
   "execution_count": null,
   "metadata": {},
   "outputs": [],
   "source": []
  }
 ],
 "metadata": {
  "kernelspec": {
   "display_name": "Python 3",
   "language": "python",
   "name": "python3"
  },
  "language_info": {
   "codemirror_mode": {
    "name": "ipython",
    "version": 3
   },
   "file_extension": ".py",
   "mimetype": "text/x-python",
   "name": "python",
   "nbconvert_exporter": "python",
   "pygments_lexer": "ipython3",
   "version": "3.7.6"
  }
 },
 "nbformat": 4,
 "nbformat_minor": 2
}

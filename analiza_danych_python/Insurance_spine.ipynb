{
 "cells": [
  {
   "cell_type": "markdown",
   "metadata": {},
   "source": [
    "#### Projekt Python Ubezpieczneia"
   ]
  },
  {
   "cell_type": "code",
   "execution_count": null,
   "metadata": {},
   "outputs": [],
   "source": [
    "uzytkownik = None\n",
    "ubezpieczenie= True\n",
    "\n",
    "def choose_csv():\n",
    "import pandas as pd\n",
    "import os\n",
    "\n",
    "\n",
    "import pandas as pd\n",
    "# pliki wrzucamy do tego samego folderu \n",
    "br = pd.read_csv(\"BusinessRules.csv\")\n",
    "br1=br.reset_index(drop=True)\n",
    "Cr15 = pd.read_csv(\"Crosswalk2015.csv\")\n",
    "ds = pd.read_csv(\"datasets_21_2159_Network.csv\")\n",
    "pa = pd.read_csv(\"PlanAttributes.csv\")\n",
    "sa = pd.read_csv(\"ServiceArea.csv\")\n",
    "bcs = pd.read_csv(\"BenefitsCostSharing.csv\")\n",
    "\n",
    "\n",
    "# joanna  in progres      \n",
    "\n",
    "def choose_data(uztykownik):   \n",
    "    \n",
    "    \n",
    "def choose_option(): \n",
    "\n",
    "# lukasz in progres    \n",
    "    \n",
    "def plot_graf()\n",
    "    \n",
    "    \n",
    "# monika in progres      \n",
    "def choose_benefit(): \n",
    "    \n",
    "# grzegorz in progres\n",
    "def last_choice():     \n",
    "\n",
    "    \n",
    "    \n",
    "choose_csv()    \n",
    "choose_data() \n",
    "choose_option()\n",
    "plot_graf()\n",
    "choose_benefit()\n",
    "last_choice()\n",
    "\n"
   ]
  }
 ],
 "metadata": {
  "kernelspec": {
   "display_name": "Python 3",
   "language": "python",
   "name": "python3"
  },
  "language_info": {
   "codemirror_mode": {
    "name": "ipython",
    "version": 3
   },
   "file_extension": ".py",
   "mimetype": "text/x-python",
   "name": "python",
   "nbconvert_exporter": "python",
   "pygments_lexer": "ipython3",
   "version": "3.7.6"
  }
 },
 "nbformat": 4,
 "nbformat_minor": 2
}

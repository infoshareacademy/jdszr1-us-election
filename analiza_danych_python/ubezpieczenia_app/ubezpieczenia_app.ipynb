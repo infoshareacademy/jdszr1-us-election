{
 "cells": [
  {
   "cell_type": "code",
   "execution_count": 2,
   "metadata": {
    "scrolled": false
   },
   "outputs": [
    {
     "name": "stderr",
     "output_type": "stream",
     "text": [

      "C:\\ProgramData\\Anaconda3\\lib\\site-packages\\IPython\\core\\interactiveshell.py:3063: DtypeWarning: Columns (0,7,8,9,10,11,12,13,14,15,18,19,20,22,23,24,25,26,27,28,29,31,32,33,34,39,40,41,42,66,67,68,70,71,72,75,76,77,79,80,81,82,84,85,86,88,89,90,92,93,94,96,97,98,136,137,138,140,141,142,145,146,147,150,151,152,154,155,156,158,159,160,162,163,164,166,167,168) have mixed types.Specify dtype option on import or set low_memory=False.\n",
      "  interactivity=interactivity, compiler=compiler, result=result)\n",
      "C:\\ProgramData\\Anaconda3\\lib\\site-packages\\IPython\\core\\interactiveshell.py:3063: DtypeWarning: Columns (3,6,9,10,16,17,18) have mixed types.Specify dtype option on import or set low_memory=False.\n",

      "  interactivity=interactivity, compiler=compiler, result=result)\n"
     ]
    }
   ],
   "source": [
    "import pandas as pd\n",
    "import os\n",
    "import numpy as np\n",
     "import matplotlib.pyplot as plt\n",
    "import seaborn as sns\n",
    "import funkcje as f\n",
    "\n",

    "\n",
    "path = os.path.abspath(\"dane\")\n",
    "rate2016_df = pd.read_csv(os.path.join(path, \"Rate2016.csv\"))\n",
    "rate2015_df = pd.read_csv(os.path.join(path, \"Rate2015.csv\"))\n",
    "rate2014_df = pd.read_csv(os.path.join(path, \"Rate2014.csv\"))\n",
    "network_df = pd.read_csv(os.path.join(path, \"Network.csv\"))\n",
    "pa_df = pd.read_csv(os.path.join(path, \"PlanAttributes.csv\"))\n",
    "bcs_df = pd.read_csv(os.path.join(path, \"BenefitsCostSharing.csv\"))"
   ]
  },
  {
   "cell_type": "code",
   "execution_count": 14,
   "metadata": {},
   "outputs": [
    {
     "name": "stdout",
     "output_type": "stream",
     "text": [
      "Aplikacja służąca do wyboru ubezpieczenia zdrowotnego\n",
      "\n",
      "W pierwszym kroku zadamy Ci kilka pytań dotyczących Twoich preferencji odnośnie ubezpieczenia:\n",
      "\n",
      "Lista state codes:\n",
      "['AK', 'AL', 'AR', 'AZ', 'DE', 'FL', 'GA', 'HI', 'IA', 'IL', 'IN', 'KS', 'LA', 'ME', 'MI', 'MO', 'MS', 'MT', 'NC', 'ND', 'NE', 'NH', 'NJ', 'NM', 'NV', 'OH', 'OK', 'OR', 'PA', 'SC', 'SD', 'TN', 'TX', 'UT', 'VA', 'WI', 'WV', 'WY']\n",
      "\n",
      "Podaj kod stanu, w którym chcesz się ubezpieczyć:AK\n",
      "Czy chcesz się ubezpieczyć z rodziną? y/n:n\n",
      "\n",
      "Podaj swój wiek:21\n",

      "\n",
      "Poniżej znajdują się wybrane dla Ciebie plany ubezpieczeniowe:\n"
     ]
    },
    {
     "data": {
      "text/html": [
       "<div>\n",
       "<style scoped>\n",
       "    .dataframe tbody tr th:only-of-type {\n",
       "        vertical-align: middle;\n",
       "    }\n",
       "\n",
       "    .dataframe tbody tr th {\n",
       "        vertical-align: top;\n",
       "    }\n",
       "\n",
       "    .dataframe thead th {\n",
       "        text-align: right;\n",
       "    }\n",
       "</style>\n",
       "<table border=\"1\" class=\"dataframe\">\n",
       "  <thead>\n",
       "    <tr style=\"text-align: right;\">\n",
       "      <th></th>\n",
       "      <th>IndividualRate</th>\n",
       "      <th>PlanId</th>\n",
       "      <th>PlanMarketingName</th>\n",
       "      <th>NetworkName</th>\n",
       "    </tr>\n",
       "  </thead>\n",
       "  <tbody>\n",
       "    <tr>\n",
       "      <th>0</th>\n",
       "      <td>25.84</td>\n",
       "      <td>47904AK0070002</td>\n",
       "      <td>Delta Dental Individual PPO, EHB Certified</td>\n",
       "      <td>Renaissance Dental</td>\n",
       "    </tr>\n",
       "    <tr>\n",
       "      <th>1</th>\n",

       "      <td>463.00</td>\n",
       "      <td>73836AK0860001</td>\n",
       "      <td>Moda Health Select Be Safeguarded</td>\n",
       "      <td>Endeavor Select</td>\n",
       "    </tr>\n",
       "    <tr>\n",
       "      <th>2</th>\n",

       "      <td>556.68</td>\n",
       "      <td>73836AK0700008</td>\n",
       "      <td>PPO 1500 (Select)</td>\n",
       "      <td>Endeavor Providence</td>\n",
       "    </tr>\n",
       "    <tr>\n",
       "      <th>3</th>\n",
       "      <td>658.00</td>\n",
       "      <td>38344AK0620006</td>\n",
       "      <td>Blue Cross Blue Shield Plus 3000, a Multi-Stat...</td>\n",
       "      <td>HeritagePlus</td>\n",
       "    </tr>\n",
       "  </tbody>\n",
       "</table>\n",
       "</div>"
      ],
      "text/plain": [
       "   IndividualRate          PlanId  \\\n",
       "0           25.84  47904AK0070002   \n",

       "1          463.00  73836AK0860001   \n",
       "2          556.68  73836AK0700008   \n",
       "3          658.00  38344AK0620006   \n",
       "\n",
       "                                   PlanMarketingName          NetworkName  \n",
       "0         Delta Dental Individual PPO, EHB Certified   Renaissance Dental  \n",
       "1                  Moda Health Select Be Safeguarded      Endeavor Select  \n",
       "2                                  PPO 1500 (Select)  Endeavor Providence  \n",
       "3  Blue Cross Blue Shield Plus 3000, a Multi-Stat...         HeritagePlus  "
      ]
     },
     "metadata": {},
     "output_type": "display_data"
    },
    {
     "name": "stdout",
     "output_type": "stream",
     "text": [
      "\n",
      "\n",
      "W poniższych tabelach zaprezentowane zostały benefity, dla każdego z czterech powyższych planów\n"
     ]
    },
    {
     "data": {
      "text/html": [
       "<div>\n",
       "<style scoped>\n",
       "    .dataframe tbody tr th:only-of-type {\n",
       "        vertical-align: middle;\n",
       "    }\n",
       "\n",
       "    .dataframe tbody tr th {\n",
       "        vertical-align: top;\n",
       "    }\n",
       "\n",
       "    .dataframe thead th {\n",
       "        text-align: right;\n",
       "    }\n",
       "</style>\n",
       "<table border=\"1\" class=\"dataframe\">\n",
       "  <thead>\n",
       "    <tr style=\"text-align: right;\">\n",
       "      <th></th>\n",
       "      <th>PlanIdBase</th>\n",
       "      <th>BenefitName</th>\n",
       "      <th>ExtraCharge</th>\n",
       "      <th>LimitQty</th>\n",
       "      <th>LimitUnit</th>\n",
       "    </tr>\n",
       "  </thead>\n",
       "  <tbody>\n",
       "    <tr>\n",
       "      <th>0</th>\n",
       "      <td>47904AK0070002</td>\n",
       "      <td>Routine Dental Services (Adult)</td>\n",
       "      <td>50%</td>\n",
       "      <td>2</td>\n",
       "      <td>Visit(s) per Benefit Period</td>\n",
       "    </tr>\n",
       "    <tr>\n",
       "      <th>1</th>\n",
       "      <td>47904AK0070002</td>\n",
       "      <td>Accidental Dental</td>\n",
       "      <td>50%</td>\n",
       "      <td>N/A</td>\n",
       "      <td>N/A</td>\n",
       "    </tr>\n",
       "    <tr>\n",

       "      <th>2</th>\n",
       "      <td>47904AK0070002</td>\n",
       "      <td>Basic Dental Care - Adult</td>\n",

       "      <td>50% Coinsurance after deductible</td>\n",
       "      <td>N/A</td>\n",
       "      <td>N/A</td>\n",
       "    </tr>\n",
       "    <tr>\n",

       "      <th>3</th>\n",
       "      <td>47904AK0070002</td>\n",
       "      <td>Basic Dental Care - Child</td>\n",

       "      <td>50% Coinsurance after deductible</td>\n",
       "      <td>N/A</td>\n",
       "      <td>N/A</td>\n",
       "    </tr>\n",
       "    <tr>\n",
       "      <th>4</th>\n",
       "      <td>47904AK0070002</td>\n",
       "      <td>Dental Check-Up for Children</td>\n",
       "      <td>0%</td>\n",
       "      <td>1</td>\n",
       "      <td>Visit(s) per 6 Months</td>\n",
       "    </tr>\n",
       "  </tbody>\n",
       "</table>\n",
       "</div>"
      ],
      "text/plain": [
       "       PlanIdBase                      BenefitName  \\\n",
       "0  47904AK0070002  Routine Dental Services (Adult)   \n",
       "1  47904AK0070002                Accidental Dental   \n",
       "2  47904AK0070002        Basic Dental Care - Adult   \n",
       "3  47904AK0070002        Basic Dental Care - Child   \n",
       "4  47904AK0070002     Dental Check-Up for Children   \n",
       "\n",
       "                        ExtraCharge LimitQty                    LimitUnit  \n",
       "0                               50%        2  Visit(s) per Benefit Period  \n",
       "1                               50%      N/A                          N/A  \n",
       "2  50% Coinsurance after deductible      N/A                          N/A  \n",
       "3  50% Coinsurance after deductible      N/A                          N/A  \n",
       "4                                0%        1        Visit(s) per 6 Months  "
      ]
     },
     "metadata": {},
     "output_type": "display_data"
    },
    {
     "data": {
      "text/html": [
       "<div>\n",
       "<style scoped>\n",
       "    .dataframe tbody tr th:only-of-type {\n",
       "        vertical-align: middle;\n",
       "    }\n",
       "\n",
       "    .dataframe tbody tr th {\n",
       "        vertical-align: top;\n",
       "    }\n",
       "\n",
       "    .dataframe thead th {\n",
       "        text-align: right;\n",
       "    }\n",
       "</style>\n",
       "<table border=\"1\" class=\"dataframe\">\n",
       "  <thead>\n",
       "    <tr style=\"text-align: right;\">\n",
       "      <th></th>\n",
       "      <th>PlanIdBase</th>\n",
       "      <th>BenefitName</th>\n",
       "      <th>ExtraCharge</th>\n",
       "      <th>LimitQty</th>\n",
       "      <th>LimitUnit</th>\n",

       "    </tr>\n",
       "  </thead>\n",
       "  <tbody>\n",
       "    <tr>\n",

       "      <th>0</th>\n",
       "      <td>73836AK0860001</td>\n",

       "      <td>Dental Check-Up for Children</td>\n",
       "      <td>0%</td>\n",
       "      <td>1</td>\n",
       "      <td>Visit(s) per 6 Months</td>\n",
       "    </tr>\n",
       "    <tr>\n",

       "      <th>1</th>\n",
       "      <td>73836AK0860001</td>\n",
       "      <td>Basic Dental Care - Child</td>\n",
       "      <td>0%</td>\n",

       "      <td>N/A</td>\n",
       "      <td>N/A</td>\n",
       "    </tr>\n",
       "    <tr>\n",

       "      <th>2</th>\n",
       "      <td>73836AK0860001</td>\n",
       "      <td>Major Dental Care - Child</td>\n",
       "      <td>0%</td>\n",

       "      <td>N/A</td>\n",
       "      <td>N/A</td>\n",
       "    </tr>\n",
       "    <tr>\n",

       "      <th>3</th>\n",
       "      <td>73836AK0860001</td>\n",
       "      <td>Accidental Dental</td>\n",
       "      <td>0%</td>\n",

       "      <td>N/A</td>\n",
       "      <td>N/A</td>\n",
       "    </tr>\n",
       "    <tr>\n",

       "      <th>4</th>\n",
       "      <td>73836AK0860001</td>\n",

       "      <td>Dental Check-Up for Children</td>\n",
       "      <td>Not Applicable</td>\n",
       "      <td>1</td>\n",
       "      <td>Visit(s) per 6 Months</td>\n",
       "    </tr>\n",

       "  </tbody>\n",
       "</table>\n",
       "</div>"
      ],
      "text/plain": [
       "       PlanIdBase                   BenefitName     ExtraCharge LimitQty  \\\n",
       "0  73836AK0860001  Dental Check-Up for Children              0%        1   \n",
       "1  73836AK0860001     Basic Dental Care - Child              0%      N/A   \n",
       "2  73836AK0860001     Major Dental Care - Child              0%      N/A   \n",
       "3  73836AK0860001             Accidental Dental              0%      N/A   \n",
       "4  73836AK0860001  Dental Check-Up for Children  Not Applicable        1   \n",
       "\n",
       "               LimitUnit  \n",
       "0  Visit(s) per 6 Months  \n",
       "1                    N/A  \n",
       "2                    N/A  \n",
       "3                    N/A  \n",
       "4  Visit(s) per 6 Months  "
      ]
     },
     "metadata": {},
     "output_type": "display_data"
    },
    {
     "data": {
      "text/html": [
       "<div>\n",
       "<style scoped>\n",
       "    .dataframe tbody tr th:only-of-type {\n",
       "        vertical-align: middle;\n",
       "    }\n",
       "\n",
       "    .dataframe tbody tr th {\n",
       "        vertical-align: top;\n",
       "    }\n",
       "\n",
       "    .dataframe thead th {\n",
       "        text-align: right;\n",
       "    }\n",
       "</style>\n",
       "<table border=\"1\" class=\"dataframe\">\n",
       "  <thead>\n",
       "    <tr style=\"text-align: right;\">\n",
       "      <th></th>\n",
       "      <th>PlanIdBase</th>\n",
       "      <th>BenefitName</th>\n",
       "      <th>ExtraCharge</th>\n",
       "      <th>LimitQty</th>\n",
       "      <th>LimitUnit</th>\n",

       "    </tr>\n",
       "  </thead>\n",
       "  <tbody>\n",
       "    <tr>\n",

       "      <th>0</th>\n",
       "      <td>73836AK0700008</td>\n",
       "      <td>Accidental Dental</td>\n",
       "      <td>20% Coinsurance after deductible</td>\n",

       "      <td>N/A</td>\n",
       "      <td>N/A</td>\n",
       "    </tr>\n",
       "    <tr>\n",

       "      <th>1</th>\n",
       "      <td>73836AK0700008</td>\n",
       "      <td>Basic Dental Care - Child</td>\n",
       "      <td>20% Coinsurance after deductible</td>\n",

       "      <td>N/A</td>\n",
       "      <td>N/A</td>\n",
       "    </tr>\n",
       "    <tr>\n",

       "      <th>2</th>\n",
       "      <td>73836AK0700008</td>\n",

       "      <td>Dental Check-Up for Children</td>\n",
       "      <td>No Charge</td>\n",
       "      <td>1</td>\n",
       "      <td>Visit(s) per 6 Months</td>\n",
       "    </tr>\n",
       "    <tr>\n",

       "      <th>3</th>\n",
       "      <td>73836AK0700008</td>\n",
       "      <td>Major Dental Care - Child</td>\n",

       "      <td>20% Coinsurance after deductible</td>\n",
       "      <td>N/A</td>\n",
       "      <td>N/A</td>\n",
       "    </tr>\n",
       "    <tr>\n",

       "      <th>4</th>\n",
       "      <td>73836AK0700008</td>\n",

       "      <td>Accidental Dental</td>\n",
       "      <td>20% Coinsurance after deductible</td>\n",
       "      <td>N/A</td>\n",
       "      <td>N/A</td>\n",
       "    </tr>\n",

       "  </tbody>\n",
       "</table>\n",
       "</div>"
      ],
      "text/plain": [
       "       PlanIdBase                   BenefitName  \\\n",
       "0  73836AK0700008             Accidental Dental   \n",
       "1  73836AK0700008     Basic Dental Care - Child   \n",
       "2  73836AK0700008  Dental Check-Up for Children   \n",
       "3  73836AK0700008     Major Dental Care - Child   \n",
       "4  73836AK0700008             Accidental Dental   \n",
       "\n",
       "                        ExtraCharge LimitQty              LimitUnit  \n",
       "0  20% Coinsurance after deductible      N/A                    N/A  \n",
       "1  20% Coinsurance after deductible      N/A                    N/A  \n",
       "2                         No Charge        1  Visit(s) per 6 Months  \n",
       "3  20% Coinsurance after deductible      N/A                    N/A  \n",
       "4  20% Coinsurance after deductible      N/A                    N/A  "
      ]
     },
     "metadata": {},
     "output_type": "display_data"
    },
    {
     "data": {
      "text/html": [
       "<div>\n",
       "<style scoped>\n",
       "    .dataframe tbody tr th:only-of-type {\n",
       "        vertical-align: middle;\n",
       "    }\n",
       "\n",
       "    .dataframe tbody tr th {\n",
       "        vertical-align: top;\n",
       "    }\n",
       "\n",
       "    .dataframe thead th {\n",
       "        text-align: right;\n",
       "    }\n",
       "</style>\n",
       "<table border=\"1\" class=\"dataframe\">\n",
       "  <thead>\n",
       "    <tr style=\"text-align: right;\">\n",
       "      <th></th>\n",
       "      <th>PlanIdBase</th>\n",
       "      <th>BenefitName</th>\n",
       "      <th>ExtraCharge</th>\n",
       "      <th>LimitQty</th>\n",
       "      <th>LimitUnit</th>\n",

       "    </tr>\n",
       "  </thead>\n",
       "  <tbody>\n",
       "    <tr>\n",

       "      <th>0</th>\n",
       "      <td>38344AK0620006</td>\n",

       "      <td>Dental Check-Up for Children</td>\n",
       "      <td>10% Coinsurance after deductible</td>\n",
       "      <td>1</td>\n",
       "      <td>Visit(s) per 6 Months</td>\n",
       "    </tr>\n",
       "    <tr>\n",

       "      <th>1</th>\n",
       "      <td>38344AK0620006</td>\n",

       "      <td>Basic Dental Care - Child</td>\n",
       "      <td>20% Coinsurance after deductible</td>\n",
       "      <td>4</td>\n",
       "      <td>Procedure(s) per Year</td>\n",

       "    </tr>\n",
       "    <tr>\n",
       "      <th>2</th>\n",
       "      <td>38344AK0620006</td>\n",
       "      <td>Major Dental Care - Child</td>\n",
       "      <td>50% Coinsurance after deductible</td>\n",
       "      <td>1</td>\n",
       "      <td>Procedure(s) per Year</td>\n",
       "    </tr>\n",
       "    <tr>\n",
       "      <th>3</th>\n",
       "      <td>38344AK0620006</td>\n",

       "      <td>Accidental Dental</td>\n",
       "      <td>20% Coinsurance after deductible</td>\n",
       "      <td>N/A</td>\n",
       "      <td>N/A</td>\n",
       "    </tr>\n",
       "    <tr>\n",

       "      <th>4</th>\n",
       "      <td>38344AK0620006</td>\n",

       "      <td>Dental Check-Up for Children</td>\n",
       "      <td>10% Coinsurance after deductible</td>\n",
       "      <td>1</td>\n",
       "      <td>Visit(s) per 6 Months</td>\n",


       "    </tr>\n",
       "    <tr>\n",
       "      <th>57</th>\n",
       "      <td>38344AK0570002</td>\n",
       "      <td>Dental Check-Up for Children</td>\n",
       "      <td>10% Coinsurance after deductible</td>\n",
       "      <td>1</td>\n",
       "      <td>Visit(s) per 6 Months</td>\n",
       "    </tr>\n",
       "    <tr>\n",
       "      <th>58</th>\n",
       "      <td>38344AK0570002</td>\n",
       "      <td>Basic Dental Care - Child</td>\n",
       "      <td>20% Coinsurance after deductible</td>\n",
       "      <td>4</td>\n",
       "      <td>Procedure(s) per Year</td>\n",
       "    </tr>\n",
       "  </tbody>\n",
       "</table>\n",
       "</div>"
      ],
      "text/plain": [

       "       PlanIdBase                   BenefitName  \\\n",
       "0  38344AK0620006  Dental Check-Up for Children   \n",
       "1  38344AK0620006     Basic Dental Care - Child   \n",
       "2  38344AK0620006     Major Dental Care - Child   \n",
       "3  38344AK0620006             Accidental Dental   \n",
       "4  38344AK0620006  Dental Check-Up for Children   \n",
       "\n",
       "                        ExtraCharge LimitQty              LimitUnit  \n",
       "0  10% Coinsurance after deductible        1  Visit(s) per 6 Months  \n",
       "1  20% Coinsurance after deductible        4  Procedure(s) per Year  \n",
       "2  50% Coinsurance after deductible        1  Procedure(s) per Year  \n",
       "3  20% Coinsurance after deductible      N/A                    N/A  \n",
       "4  10% Coinsurance after deductible        1  Visit(s) per 6 Months  "
      ]
     },

     "metadata": {},
     "output_type": "display_data"
    },
    {
     "data": {
      "image/png": "[encoded data removed]",
      "text/plain": [
       "<Figure size 432x288 with 1 Axes>"
      ]
     },
     "metadata": {
      "needs_background": "light"
     },
     "output_type": "display_data"
    }
   ],
   "source": [
    "f.best_healthcare(network_df, pa_df, rate2016_df, rate2015_df, rate2014_df, bcs_df)"
   ]
  },
  {
   "cell_type": "code",
   "execution_count": null,
   "metadata": {},
   "outputs": [],
   "source": []
  }
 ],
 "metadata": {
  "kernelspec": {
   "display_name": "Python 3",
   "language": "python",
   "name": "python3"
  },
  "language_info": {
   "codemirror_mode": {
    "name": "ipython",
    "version": 3
   },
   "file_extension": ".py",
   "mimetype": "text/x-python",
   "name": "python",
   "nbconvert_exporter": "python",
   "pygments_lexer": "ipython3",
   "version": "3.7.6"
  }
 },
 "nbformat": 4,
 "nbformat_minor": 2
}

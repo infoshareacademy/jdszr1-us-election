{
 "cells": [
  {
   "cell_type": "code",
   "execution_count": 1,
   "metadata": {
    "scrolled": true
   },
   "outputs": [],
   "source": [
    "import pandas as pd\n",
    "import os\n",
    "import numpy as np\n",
    "import funkcje as f"
   ]
  },
  {
   "cell_type": "code",
   "execution_count": 2,
   "metadata": {},
   "outputs": [
    {
     "name": "stdout",
     "output_type": "stream",
     "text": [
      "Lista state codes:\n",
      "['AK', 'AL', 'AR', 'AZ', 'DE', 'FL', 'GA', 'HI', 'IA', 'IL', 'IN', 'KS', 'LA', 'ME', 'MI', 'MO', 'MS', 'MT', 'NC', 'ND', 'NE', 'NH', 'NJ', 'NM', 'NV', 'OH', 'OK', 'OR', 'PA', 'SC', 'SD', 'TN', 'TX', 'UT', 'VA', 'WI', 'WV', 'WY']\n",
      "State code:FL\n",
      "Czy chcesz się ubezpieczyć z rodziną? y/n:n\n",
      "Wiek:34\n"
     ]
    }
   ],
   "source": [
    "state_code = f.pobierz_state()\n",
    "\n",
    "family = input(\"Czy chcesz się ubezpieczyć z rodziną? y/n:\")\n",
    "if family == 'y':\n",
    "    age = 'Family Option'\n",
    "    opcja = f.pobierz_opcje()\n",
    "else:\n",
    "    age = f.pobierz_wiek()\n",
    "    opcja = 1\n"
   ]
  },
  {
   "cell_type": "code",
   "execution_count": 3,
   "metadata": {},
   "outputs": [
    {
     "name": "stderr",
     "output_type": "stream",
     "text": [
      "/home/joanna/anaconda3/lib/python3.7/site-packages/IPython/core/interactiveshell.py:3058: DtypeWarning: Columns (7,10,11,12,32,33,34,40,41,42,149,151,152,153) have mixed types. Specify dtype option on import or set low_memory=False.\n",
      "  interactivity=interactivity, compiler=compiler, result=result)\n"
     ]
    }
   ],
   "source": [
    "path = os.path.abspath(\"dane3\")\n",
    "\n",
    "rate_df = pd.read_csv(os.path.join(path, \"Rate2016.csv\"))\n",
    "network_df = pd.read_csv(os.path.join(path, \"Network2016.csv\"))\n",
    "pa_df = pd.read_csv(os.path.join(path, \"PlanAttributes2016.csv\"))\n"
   ]
  },
  {
   "cell_type": "code",
   "execution_count": 4,
   "metadata": {},
   "outputs": [
    {
     "data": {
      "text/html": [
       "<div>\n",
       "<style scoped>\n",
       "    .dataframe tbody tr th:only-of-type {\n",
       "        vertical-align: middle;\n",
       "    }\n",
       "\n",
       "    .dataframe tbody tr th {\n",
       "        vertical-align: top;\n",
       "    }\n",
       "\n",
       "    .dataframe thead th {\n",
       "        text-align: right;\n",
       "    }\n",
       "</style>\n",
       "<table border=\"1\" class=\"dataframe\">\n",
       "  <thead>\n",
       "    <tr style=\"text-align: right;\">\n",
       "      <th></th>\n",
       "      <th>IndividualRate</th>\n",
       "      <th>PlanId</th>\n",
       "      <th>PlanMarketingName</th>\n",
       "      <th>NetworkName</th>\n",
       "    </tr>\n",
       "  </thead>\n",
       "  <tbody>\n",
       "    <tr>\n",
       "      <td>341357</td>\n",
       "      <td>6.60</td>\n",
       "      <td>85019FL0010001</td>\n",
       "      <td>LIBERTY Dental Plan FL Pediatric Low with Adul...</td>\n",
       "      <td>Florida Exchange CAP</td>\n",
       "    </tr>\n",
       "    <tr>\n",
       "      <td>185986</td>\n",
       "      <td>274.08</td>\n",
       "      <td>27357FL1820023</td>\n",
       "      <td>Health First Bronze HMO 90 1254</td>\n",
       "      <td>FHCA Small Group</td>\n",
       "    </tr>\n",
       "    <tr>\n",
       "      <td>226715</td>\n",
       "      <td>318.44</td>\n",
       "      <td>27357FL1850043</td>\n",
       "      <td>Health First Silver POS 50 5317</td>\n",
       "      <td>FHCA Small Group</td>\n",
       "    </tr>\n",
       "    <tr>\n",
       "      <td>157282</td>\n",
       "      <td>379.58</td>\n",
       "      <td>27357FL1880009</td>\n",
       "      <td>Florida Hospital Gold HMO 70 1512</td>\n",
       "      <td>FHCA Small Group</td>\n",
       "    </tr>\n",
       "  </tbody>\n",
       "</table>\n",
       "</div>"
      ],
      "text/plain": [
       "        IndividualRate          PlanId  \\\n",
       "341357            6.60  85019FL0010001   \n",
       "185986          274.08  27357FL1820023   \n",
       "226715          318.44  27357FL1850043   \n",
       "157282          379.58  27357FL1880009   \n",
       "\n",
       "                                        PlanMarketingName  \\\n",
       "341357  LIBERTY Dental Plan FL Pediatric Low with Adul...   \n",
       "185986                    Health First Bronze HMO 90 1254   \n",
       "226715                    Health First Silver POS 50 5317   \n",
       "157282                  Florida Hospital Gold HMO 70 1512   \n",
       "\n",
       "                 NetworkName  \n",
       "341357  Florida Exchange CAP  \n",
       "185986      FHCA Small Group  \n",
       "226715      FHCA Small Group  \n",
       "157282      FHCA Small Group  "
      ]
     },
     "execution_count": 4,
     "metadata": {},
     "output_type": "execute_result"
    }
   ],
   "source": [
    "f.pokaz_wynik(state_code, age, opcja, network_df, pa_df, rate_df)"
   ]
  },
  {
   "cell_type": "code",
   "execution_count": null,
   "metadata": {},
   "outputs": [],
   "source": []
  }
 ],
 "metadata": {
  "kernelspec": {
   "display_name": "Python 3",
   "language": "python",
   "name": "python3"
  },
  "language_info": {
   "codemirror_mode": {
    "name": "ipython",
    "version": 3
   },
   "file_extension": ".py",
   "mimetype": "text/x-python",
   "name": "python",
   "nbconvert_exporter": "python",
   "pygments_lexer": "ipython3",
   "version": "3.7.4"
  }
 },
 "nbformat": 4,
 "nbformat_minor": 2
}

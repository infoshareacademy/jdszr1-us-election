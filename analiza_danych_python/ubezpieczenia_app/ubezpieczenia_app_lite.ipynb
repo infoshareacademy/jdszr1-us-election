{
 "cells": [
  {
   "cell_type": "code",
   "execution_count": 1,
   "metadata": {
    "scrolled": false
   },
   "outputs": [
    {
     "name": "stderr",
     "output_type": "stream",
     "text": [
      "C:\\ProgramData\\Anaconda3\\lib\\site-packages\\IPython\\core\\interactiveshell.py:3063: DtypeWarning: Columns (7,10,11,12,32,33,34,40,41,42,149,151,152,153) have mixed types.Specify dtype option on import or set low_memory=False.\n",
      "  interactivity=interactivity, compiler=compiler, result=result)\n",
      "C:\\ProgramData\\Anaconda3\\lib\\site-packages\\IPython\\core\\interactiveshell.py:3063: DtypeWarning: Columns (3,6,9,16) have mixed types.Specify dtype option on import or set low_memory=False.\n",
      "  interactivity=interactivity, compiler=compiler, result=result)\n"
     ]
    }
   ],
   "source": [
    "import pandas as pd\n",
    "import os\n",
    "import numpy as np\n",
    "import matplotlib.pyplot as plt\n",
    "import seaborn as sns\n",
    "import funkcje2016 as f\n",
    "\n",
    "\n",
    "path = os.path.abspath(\"dane\")\n",
    "rate2016_df = pd.read_csv(os.path.join(path, \"Rate2016.csv\"))\n",
    "network_df = pd.read_csv(os.path.join(path, \"Network2016.csv\"))\n",
    "pa_df = pd.read_csv(os.path.join(path, \"PlanAttributes2016.csv\"))\n",
    "bcs_df = pd.read_csv(os.path.join(path, \"BenefitsCostSharing2016.csv\"))"
   ]
  },
  {
   "cell_type": "code",
   "execution_count": 2,
   "metadata": {},
   "outputs": [
    {
     "name": "stdout",
     "output_type": "stream",
     "text": [
      "Aplikacja służąca do wyboru ubezpieczenia zdrowotnego\n",
      "\n",
      "W pierwszym kroku zadamy Ci kilka pytań dotyczących Twoich preferencji odnośnie ubezpieczenia:\n",
      "\n",
      "Lista state codes:\n",
      "['AK', 'AL', 'AR', 'AZ', 'DE', 'FL', 'GA', 'HI', 'IA', 'IL', 'IN', 'KS', 'LA', 'ME', 'MI', 'MO', 'MS', 'MT', 'NC', 'ND', 'NE', 'NH', 'NJ', 'NM', 'NV', 'OH', 'OK', 'OR', 'PA', 'SC', 'SD', 'TN', 'TX', 'UT', 'VA', 'WI', 'WV', 'WY']\n",
      "\n",
      "Podaj kod stanu, w którym chcesz się ubezpieczyć:NV\n",
      "Czy chcesz się ubezpieczyć z rodziną? y/n:y\n",
      "\n",
      "Poniższa lista prezentuje dostępne opcje ubezpieczenia rodzinnego:\n",
      "\n",
      " 2 - Couple\n",
      " 3 - Primary Subscriber and One Dependent\n",
      " 4 - Primary Subscriber and Two Dependents\n",
      " 5 - Primary Subscriber and Three or More Dependents\n",
      " 6 - Couple And One Dependent\n",
      " 7 - Couple And Two Dependents\n",
      " 8 - Couple And Three or More Dependents\n",
      "\n",
      "Z powyższej listy wybierz numer opcji ubezpieczenia:7\n",
      "\n",
      "Niestety nie dyspozujemy planem ubezpieczeniowym dla podanych kryteriów\n"
     ]
    }
   ],
   "source": [
    "f.best_healthcare(network_df, pa_df, rate2016_df, bcs_df)"
   ]
  },
  {
   "cell_type": "code",
   "execution_count": null,
   "metadata": {},
   "outputs": [],
   "source": []
  }
 ],
 "metadata": {
  "kernelspec": {
   "display_name": "Python 3",
   "language": "python",
   "name": "python3"
  },
  "language_info": {
   "codemirror_mode": {
    "name": "ipython",
    "version": 3
   },
   "file_extension": ".py",
   "mimetype": "text/x-python",
   "name": "python",
   "nbconvert_exporter": "python",
   "pygments_lexer": "ipython3",
   "version": "3.7.6"
  }
 },
 "nbformat": 4,
 "nbformat_minor": 2
}

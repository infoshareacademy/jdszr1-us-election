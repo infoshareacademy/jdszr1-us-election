{
 "cells": [
  {
   "cell_type": "code",
   "execution_count": 1,
   "metadata": {},
   "outputs": [],
   "source": [
    "import ipywidgets as widgets\n",
    "from IPython.display import display\n",
    "import numpy as np\n",
    "import pandas as pd\n",
    "import functions as f\n",
    "import functools\n",
    "df = pd.read_csv(\"dane/insurance_final.csv\")"
   ]
  },
  {
   "cell_type": "code",
   "execution_count": 2,
   "metadata": {},
   "outputs": [
    {
     "name": "stdout",
     "output_type": "stream",
     "text": [
      "Prosimy o wypełnienie poniższego kwestionariusza i zaznaczenie odpowiednich opcji\n",
      "\n",
      "Zaznacz swoją płeć:\n"
     ]
    },
    {
     "data": {
      "application/vnd.jupyter.widget-view+json": {
       "model_id": "4b02dd83a1a942698f2167fe9807dd0f",
       "version_major": 2,
       "version_minor": 0
      },
      "text/plain": [
       "RadioButtons(description='Płeć:', options=('Kobieta', 'Mężczyzna'), value='Kobieta')"
      ]
     },
     "metadata": {},
     "output_type": "display_data"
    },
    {
     "name": "stdout",
     "output_type": "stream",
     "text": [
      "Podaj swój wiek:\n"
     ]
    },
    {
     "data": {
      "application/vnd.jupyter.widget-view+json": {
       "model_id": "81b3e3a448654dd09a4cf246c2fe14e2",
       "version_major": 2,
       "version_minor": 0
      },
      "text/plain": [
       "IntSlider(value=1, max=120, min=1)"
      ]
     },
     "metadata": {},
     "output_type": "display_data"
    },
    {
     "name": "stdout",
     "output_type": "stream",
     "text": [
      "Podaj swój wzrost (w metrach) oraz wagę (w kilogramach):\n"
     ]
    },
    {
     "data": {
      "application/vnd.jupyter.widget-view+json": {
       "model_id": "cb9653b1312e4a9db7978623a518344e",
       "version_major": 2,
       "version_minor": 0
      },
      "text/plain": [
       "FloatSlider(value=1.0, description='Wzrost', max=2.5, min=1.0, step=0.01)"
      ]
     },
     "metadata": {},
     "output_type": "display_data"
    },
    {
     "data": {
      "application/vnd.jupyter.widget-view+json": {
       "model_id": "0f5eb0e82e784a36b06033552b467ba1",
       "version_major": 2,
       "version_minor": 0
      },
      "text/plain": [
       "IntSlider(value=10, description='Waga', max=200, min=10)"
      ]
     },
     "metadata": {},
     "output_type": "display_data"
    },
    {
     "data": {
      "application/vnd.jupyter.widget-view+json": {
       "model_id": "bb5a2ceefa8c4f18a041f6b2ac8c54ed",
       "version_major": 2,
       "version_minor": 0
      },
      "text/plain": [
       "Dropdown(description='Czy palisz?:', options=('Nie', 'Tak'), value='Nie')"
      ]
     },
     "metadata": {},
     "output_type": "display_data"
    },
    {
     "name": "stdout",
     "output_type": "stream",
     "text": [
      "Podaj liczbę swoich dzieci:\n"
     ]
    },
    {
     "data": {
      "application/vnd.jupyter.widget-view+json": {
       "model_id": "b1e2273b61f04911b8bda2f12b1edd96",
       "version_major": 2,
       "version_minor": 0
      },
      "text/plain": [
       "Dropdown(description='Ilość dzieci:', options=(0, 1, 2, 3, 4, 5, 6), value=0)"
      ]
     },
     "metadata": {},
     "output_type": "display_data"
    },
    {
     "name": "stdout",
     "output_type": "stream",
     "text": [
      "Zaznacz swój region:\n"
     ]
    },
    {
     "data": {
      "application/vnd.jupyter.widget-view+json": {
       "model_id": "720f54b0794c46b5978f4b32373ef387",
       "version_major": 2,
       "version_minor": 0
      },
      "text/plain": [
       "RadioButtons(description='Region:', options=('southeast', 'southwest', 'norteast', 'nortwest'), value='southea…"
      ]
     },
     "metadata": {},
     "output_type": "display_data"
    },
    {
     "data": {
      "application/vnd.jupyter.widget-view+json": {
       "model_id": "bde0a7f1a3bf4ace977be7fde3d6de3a",
       "version_major": 2,
       "version_minor": 0
      },
      "text/plain": [
       "Button(description='Oblicz', style=ButtonStyle())"
      ]
     },
     "metadata": {},
     "output_type": "display_data"
    },
    {
     "name": "stdout",
     "output_type": "stream",
     "text": [
      "Twoja stawka ubezpieczenia:\n",
      "   Stawka ubezpieczenia\n",
      "0           4935.537104\n"
     ]
    }
   ],
   "source": [
    "sex_w, age_w, height_w, weight_w, smoker_w, children_w, region_w = f.widgets()\n",
    "\n",
    "def click_button(button):\n",
    "    sex, age, bmi, smoker, children, region = f.values(sex_w, age_w, height_w, weight_w, smoker_w, children_w, region_w)\n",
    "    df_created = f.create_df(sex, age, bmi, smoker, children, region)\n",
    "    stawka = f.train_model(df, df_created)\n",
    "    print(\"Twoja stawka ubezpieczenia:\")\n",
    "    print(stawka)\n",
    "\n",
    "button = widgets.Button(description='Oblicz')\n",
    "button.on_click(click_button)\n",
    "display(button)"
   ]
  },
  {
   "cell_type": "code",
   "execution_count": null,
   "metadata": {},
   "outputs": [],
   "source": []
  }
 ],
 "metadata": {
  "kernelspec": {
   "display_name": "Python 3",
   "language": "python",
   "name": "python3"
  },
  "language_info": {
   "codemirror_mode": {
    "name": "ipython",
    "version": 3
   },
   "file_extension": ".py",
   "mimetype": "text/x-python",
   "name": "python",
   "nbconvert_exporter": "python",
   "pygments_lexer": "ipython3",
   "version": "3.7.4"
  }
 },
 "nbformat": 4,
 "nbformat_minor": 2
}

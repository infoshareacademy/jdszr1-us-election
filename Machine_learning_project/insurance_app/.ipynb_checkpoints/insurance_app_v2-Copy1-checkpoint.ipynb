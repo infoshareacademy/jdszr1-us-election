{
 "cells": [
  {
   "cell_type": "code",
   "execution_count": 1,
   "metadata": {},
   "outputs": [
    {
     "name": "stdout",
     "output_type": "stream",
     "text": [
      "Prosimy o wypełnienie poniższego kwestionariusza i zaznaczenie odpowiednich opcji\n",
      "\n",
      "Zaznacz swoją płeć:\n"
     ]
    },
    {
     "data": {
      "application/vnd.jupyter.widget-view+json": {
       "model_id": "4aecde7a09b544c0bfb4a614511b57df",
       "version_major": 2,
       "version_minor": 0
      },
      "text/plain": [
       "RadioButtons(description='Płeć:', options=('Kobieta', 'Mężczyzna'), value='Kobieta')"
      ]
     },
     "metadata": {},
     "output_type": "display_data"
    },
    {
     "name": "stdout",
     "output_type": "stream",
     "text": [
      "Podaj swój wiek:\n"
     ]
    },
    {
     "data": {
      "application/vnd.jupyter.widget-view+json": {
       "model_id": "19abc19c56e24727907fec885d7d8346",
       "version_major": 2,
       "version_minor": 0
      },
      "text/plain": [
       "IntSlider(value=1, max=120, min=1)"
      ]
     },
     "metadata": {},
     "output_type": "display_data"
    },
    {
     "name": "stdout",
     "output_type": "stream",
     "text": [
      "Podaj swój wzrost (w metrach) oraz wagę (w kilogramach):\n"
     ]
    },
    {
     "data": {
      "application/vnd.jupyter.widget-view+json": {
       "model_id": "91ca3927061c477cb6e0d9edd4cb2bd7",
       "version_major": 2,
       "version_minor": 0
      },
      "text/plain": [
       "FloatSlider(value=1.0, description='Wzrost', max=2.5, min=1.0, step=0.01)"
      ]
     },
     "metadata": {},
     "output_type": "display_data"
    },
    {
     "data": {
      "application/vnd.jupyter.widget-view+json": {
       "model_id": "4f2d80afc35449438395d240ce693839",
       "version_major": 2,
       "version_minor": 0
      },
      "text/plain": [
       "IntSlider(value=10, description='Waga', max=200, min=10)"
      ]
     },
     "metadata": {},
     "output_type": "display_data"
    },
    {
     "data": {
      "application/vnd.jupyter.widget-view+json": {
       "model_id": "b5af7e8cfbbf4094af955f8bc022ded2",
       "version_major": 2,
       "version_minor": 0
      },
      "text/plain": [
       "Dropdown(description='Czy palisz?:', options=('Nie', 'Tak'), value='Nie')"
      ]
     },
     "metadata": {},
     "output_type": "display_data"
    },
    {
     "name": "stdout",
     "output_type": "stream",
     "text": [
      "Podaj liczbę swoich dzieci:\n"
     ]
    },
    {
     "data": {
      "application/vnd.jupyter.widget-view+json": {
       "model_id": "df0549eafe7d4645913d2de97905de2d",
       "version_major": 2,
       "version_minor": 0
      },
      "text/plain": [
       "Dropdown(description='Ilość dzieci:', options=(0, 1, 2, 3, 4, 5, 6), value=0)"
      ]
     },
     "metadata": {},
     "output_type": "display_data"
    },
    {
     "name": "stdout",
     "output_type": "stream",
     "text": [
      "Zaznacz swój region:\n"
     ]
    },
    {
     "data": {
      "application/vnd.jupyter.widget-view+json": {
       "model_id": "6790df97a0ef44fc9e34e48c1559af19",
       "version_major": 2,
       "version_minor": 0
      },
      "text/plain": [
       "RadioButtons(description='Region:', options=('southeast', 'southwest', 'norteast', 'nortwest'), value='southea…"
      ]
     },
     "metadata": {},
     "output_type": "display_data"
    },
    {
     "data": {
      "application/vnd.jupyter.widget-view+json": {
       "model_id": "dc51dbe1f2744336b863a5c5a3d7a33d",
       "version_major": 2,
       "version_minor": 0
      },
      "text/plain": [
       "Output()"
      ]
     },
     "metadata": {},
     "output_type": "display_data"
    },
    {
     "data": {
      "application/vnd.jupyter.widget-view+json": {
       "model_id": "ad3cdc61115444638928a6efc8cd99f8",
       "version_major": 2,
       "version_minor": 0
      },
      "text/plain": [
       "Button(description='Oblicz', style=ButtonStyle())"
      ]
     },
     "metadata": {},
     "output_type": "display_data"
    }
   ],
   "source": [
    "import ipywidgets as widgets\n",
    "from IPython.display import display\n",
    "import numpy as np\n",
    "import pandas as pd\n",
    "import functions as f\n",
    "import functools\n",
    "df = pd.read_csv(\"dane/insurance_final.csv\")\n",
    "\n",
    "sex_w, age_w, height_w, weight_w, smoker_w, children_w, region_w = f.widgets_pro()\n",
    "\n",
    "output = f.widgets.Output()\n",
    "display(output)\n",
    "def click_button(button):    \n",
    "    sex, age, bmi, smoker, children, region = f.values(sex_w, age_w, height_w, weight_w, smoker_w, children_w, region_w)\n",
    "    df_created = f.create_df(sex, age, bmi, smoker, children, region)\n",
    "    stawka = f.train_model(df, df_created)\n",
    "    with output:\n",
    "        clear_output()\n",
    "        print(\"Twoja stawka ubezpieczenia:\")\n",
    "        print(stawka)\n",
    "\n",
    "button = widgets.Button(description='Oblicz')\n",
    "button.on_click(click_button)\n",
    "display(button)"
   ]
  }
 ],
 "metadata": {
  "kernelspec": {
   "display_name": "Python 3",
   "language": "python",
   "name": "python3"
  },
  "language_info": {
   "codemirror_mode": {
    "name": "ipython",
    "version": 3
   },
   "file_extension": ".py",
   "mimetype": "text/x-python",
   "name": "python",
   "nbconvert_exporter": "python",
   "pygments_lexer": "ipython3",
   "version": "3.7.6"
  }
 },
 "nbformat": 4,
 "nbformat_minor": 2
}

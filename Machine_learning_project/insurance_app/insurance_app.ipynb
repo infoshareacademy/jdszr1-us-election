{
 "cells": [
  {
   "cell_type": "code",
   "execution_count": 2,
   "metadata": {},
   "outputs": [],
   "source": [
    "import ipywidgets as widgets\n",
    "from IPython.display import display\n",
    "import numpy as np\n",
    "import pandas as pd\n",
    "import functions as f\n",
    "import functools\n",
    "df = pd.read_csv(\"dane/insurance_final.csv\")"
   ]
  },
  {
   "cell_type": "code",
   "execution_count": 3,
   "metadata": {
    "scrolled": true
   },
   "outputs": [
    {
     "name": "stdout",
     "output_type": "stream",
     "text": [
      "Prosimy o wypełnienie poniższego kwestionariusza i zaznaczenie odpowiednich opcji\n",
      "\n",
      "Zaznacz swoją płeć:\n"
     ]
    },
    {
     "data": {
      "application/vnd.jupyter.widget-view+json": {
       "model_id": "7fba97f3a7064a79bb0df15b8ae3d15f",
       "version_major": 2,
       "version_minor": 0
      },
      "text/plain": [
       "RadioButtons(description='Płeć:', options=('Kobieta', 'Mężczyzna'), value='Kobieta')"
      ]
     },
     "metadata": {},
     "output_type": "display_data"
    },
    {
     "name": "stdout",
     "output_type": "stream",
     "text": [
      "Podaj swój wiek:\n"
     ]
    },
    {
     "data": {
      "application/vnd.jupyter.widget-view+json": {
       "model_id": "23d438e7f6db4737b5431c72fe5bd8b2",
       "version_major": 2,
       "version_minor": 0
      },
      "text/plain": [
       "IntSlider(value=1, max=120, min=1)"
      ]
     },
     "metadata": {},
     "output_type": "display_data"
    },
    {
     "name": "stdout",
     "output_type": "stream",
     "text": [
      "Podaj swój wzrost (w metrach) oraz wagę (w kilogramach):\n"
     ]
    },
    {
     "data": {
      "application/vnd.jupyter.widget-view+json": {
       "model_id": "3e4a0fb9f45c4f1a842d6a0d11ea6dee",
       "version_major": 2,
       "version_minor": 0
      },
      "text/plain": [
       "FloatSlider(value=1.0, description='Wzrost', max=2.5, min=1.0, step=0.01)"
      ]
     },
     "metadata": {},
     "output_type": "display_data"
    },
    {
     "data": {
      "application/vnd.jupyter.widget-view+json": {
       "model_id": "af57288482514044ae0163f154a8edb4",
       "version_major": 2,
       "version_minor": 0
      },
      "text/plain": [
       "IntSlider(value=10, description='Waga', max=200, min=10)"
      ]
     },
     "metadata": {},
     "output_type": "display_data"
    },
    {
     "data": {
      "application/vnd.jupyter.widget-view+json": {
       "model_id": "d55fa828e4f24524b535c087c7f49041",
       "version_major": 2,
       "version_minor": 0
      },
      "text/plain": [
       "Dropdown(description='Czy palisz?:', options=('Nie', 'Tak'), value='Nie')"
      ]
     },
     "metadata": {},
     "output_type": "display_data"
    },
    {
     "name": "stdout",
     "output_type": "stream",
     "text": [
      "Podaj liczbę swoich dzieci:\n"
     ]
    },
    {
     "data": {
      "application/vnd.jupyter.widget-view+json": {
       "model_id": "0e70cbfef6f14242a289f094acc8e215",
       "version_major": 2,
       "version_minor": 0
      },
      "text/plain": [
       "Dropdown(description='Ilość dzieci:', options=(0, 1, 2, 3, 4, 5, 6), value=0)"
      ]
     },
     "metadata": {},
     "output_type": "display_data"
    },
    {
     "name": "stdout",
     "output_type": "stream",
     "text": [
      "Zaznacz swój region:\n"
     ]
    },
    {
     "data": {
      "application/vnd.jupyter.widget-view+json": {
       "model_id": "abfc24c0f5594d238afe88da23d74436",
       "version_major": 2,
       "version_minor": 0
      },
      "text/plain": [
       "RadioButtons(description='Region:', options=('southeast', 'southwest', 'norteast', 'nortwest'), value='southea…"
      ]
     },
     "metadata": {},
     "output_type": "display_data"
    },
    {
     "data": {
      "application/vnd.jupyter.widget-view+json": {
       "model_id": "febfb2f6b40e4b16968185947c508431",
       "version_major": 2,
       "version_minor": 0
      },
      "text/plain": [
       "Button(description='Oblicz', style=ButtonStyle())"
      ]
     },
     "metadata": {},
     "output_type": "display_data"
    }
   ],
   "source": [
    "# import functions as f\n",
    "# # sex_w, age_w, height_w, weight_w, smoker_w, children_w, region_w = f.widgets2()\n",
    "# f.insurance_data();\n",
    "\n",
    "\n",
    "sex_w, age_w, height_w, weight_w, smoker_w, children_w, region_w = f.widgets2()\n",
    "\n",
    "def click_button(button):\n",
    "    sex, age, bmi, smoker, children, region = f.values(sex_w, age_w, height_w, weight_w, smoker_w, children_w, region_w)\n",
    "    df_created = f.create_df(sex, age, bmi, smoker, children, region)\n",
    "    stawka = f.train_model(df, df_created)\n",
    "    print(\"Twoja stawka ubezpieczenia:\")\n",
    "    print(stawka)\n",
    "\n",
    "button = widgets.Button(description='Oblicz')\n",
    "button.on_click(click_button)\n",
    "display(button)"
   ]
  },
  {
   "cell_type": "code",
   "execution_count": 4,
   "metadata": {},
   "outputs": [
    {
     "name": "stdout",
     "output_type": "stream",
     "text": [
      "Prosimy o wypełnienie poniższego kwestionariusza i zaznaczenie odpowiednich opcji\n",
      "\n",
      "Zaznacz swoją płeć:\n"
     ]
    },
    {
     "data": {
      "application/vnd.jupyter.widget-view+json": {
       "model_id": "0327835da2e848e189cbbb340b736873",
       "version_major": 2,
       "version_minor": 0
      },
      "text/plain": [
       "RadioButtons(description='Płeć:', options=('Kobieta', 'Mężczyzna'), value='Kobieta')"
      ]
     },
     "metadata": {},
     "output_type": "display_data"
    },
    {
     "name": "stdout",
     "output_type": "stream",
     "text": [
      "Podaj swój wiek:\n"
     ]
    },
    {
     "data": {
      "application/vnd.jupyter.widget-view+json": {
       "model_id": "8a17e563febf40eea548caff1d0cc345",
       "version_major": 2,
       "version_minor": 0
      },
      "text/plain": [
       "IntSlider(value=1, max=120, min=1)"
      ]
     },
     "metadata": {},
     "output_type": "display_data"
    },
    {
     "name": "stdout",
     "output_type": "stream",
     "text": [
      "Podaj swój wzrost (w metrach) oraz wagę (w kilogramach):\n"
     ]
    },
    {
     "data": {
      "application/vnd.jupyter.widget-view+json": {
       "model_id": "87d054dd33034891bad115ec76b95717",
       "version_major": 2,
       "version_minor": 0
      },
      "text/plain": [
       "FloatSlider(value=1.0, description='Wzrost', max=2.5, min=1.0, step=0.01)"
      ]
     },
     "metadata": {},
     "output_type": "display_data"
    },
    {
     "data": {
      "application/vnd.jupyter.widget-view+json": {
       "model_id": "ee7f44f4d609447893c6b6bca78805b2",
       "version_major": 2,
       "version_minor": 0
      },
      "text/plain": [
       "IntSlider(value=10, description='Waga', max=200, min=10)"
      ]
     },
     "metadata": {},
     "output_type": "display_data"
    },
    {
     "data": {
      "application/vnd.jupyter.widget-view+json": {
       "model_id": "d4ba02885b514924ab3b8023245df8e1",
       "version_major": 2,
       "version_minor": 0
      },
      "text/plain": [
       "Dropdown(description='Czy palisz?:', options=('Nie', 'Tak'), value='Nie')"
      ]
     },
     "metadata": {},
     "output_type": "display_data"
    },
    {
     "name": "stdout",
     "output_type": "stream",
     "text": [
      "Podaj liczbę swoich dzieci:\n"
     ]
    },
    {
     "data": {
      "application/vnd.jupyter.widget-view+json": {
       "model_id": "6b9290ac762e437ba2472d1d5ce60831",
       "version_major": 2,
       "version_minor": 0
      },
      "text/plain": [
       "Dropdown(description='Ilość dzieci:', options=(0, 1, 2, 3, 4, 5, 6), value=0)"
      ]
     },
     "metadata": {},
     "output_type": "display_data"
    },
    {
     "name": "stdout",
     "output_type": "stream",
     "text": [
      "Zaznacz swój region:\n"
     ]
    },
    {
     "data": {
      "application/vnd.jupyter.widget-view+json": {
       "model_id": "12afbc06a0fe438fa9fe4b187dd5deeb",
       "version_major": 2,
       "version_minor": 0
      },
      "text/plain": [
       "RadioButtons(description='Region:', options=('southeast', 'southwest', 'norteast', 'nortwest'), value='southea…"
      ]
     },
     "metadata": {},
     "output_type": "display_data"
    },
    {
     "data": {
      "application/vnd.jupyter.widget-view+json": {
       "model_id": "99094c886253455ba1304a4d14afea10",
       "version_major": 2,
       "version_minor": 0
      },
      "text/plain": [
       "Button(description='Oblicz', style=ButtonStyle())"
      ]
     },
     "metadata": {},
     "output_type": "display_data"
    },
    {
     "name": "stdout",
     "output_type": "stream",
     "text": [
      "Twoja stawka ubezpieczenia:\n",
      "   Stawka ubezpieczenia\n",
      "0           8520.428686\n"
     ]
    }
   ],
   "source": [
    "import functions as f\n",
    "sex_w, age_w, height_w, weight_w, smoker_w, children_w, region_w = f.widgets2()\n",
    "f.insurance_data();"
   ]
  },
  {
   "cell_type": "code",
   "execution_count": 21,
   "metadata": {},
   "outputs": [
    {
     "name": "stdout",
     "output_type": "stream",
     "text": [
      "Prosimy o wypełnienie poniższego kwestionariusza i zaznaczenie odpowiednich opcji\n",
      "\n",
      "Zaznacz swoją płeć:\n"
     ]
    },
    {
     "data": {
      "application/vnd.jupyter.widget-view+json": {
       "model_id": "8660b8d9072245e38adaa3480fba6f57",
       "version_major": 2,
       "version_minor": 0
      },
      "text/plain": [
       "RadioButtons(description='Płeć:', options=('Kobieta', 'Mężczyzna'), value='Kobieta')"
      ]
     },
     "metadata": {},
     "output_type": "display_data"
    },
    {
     "name": "stdout",
     "output_type": "stream",
     "text": [
      "Podaj swój wiek:\n"
     ]
    },
    {
     "data": {
      "application/vnd.jupyter.widget-view+json": {
       "model_id": "b3821f0eead04fa4a889e9e578d691c9",
       "version_major": 2,
       "version_minor": 0
      },
      "text/plain": [
       "IntSlider(value=1, max=120, min=1)"
      ]
     },
     "metadata": {},
     "output_type": "display_data"
    },
    {
     "name": "stdout",
     "output_type": "stream",
     "text": [
      "Podaj swój wzrost (w metrach) oraz wagę (w kilogramach):\n"
     ]
    },
    {
     "data": {
      "application/vnd.jupyter.widget-view+json": {
       "model_id": "1be344b060f14073ab1e320d0ce62af4",
       "version_major": 2,
       "version_minor": 0
      },
      "text/plain": [
       "FloatSlider(value=1.0, description='Wzrost', max=2.5, min=1.0, step=0.01)"
      ]
     },
     "metadata": {},
     "output_type": "display_data"
    },
    {
     "data": {
      "application/vnd.jupyter.widget-view+json": {
       "model_id": "d738efa67aa14fee9d13d45ff6059912",
       "version_major": 2,
       "version_minor": 0
      },
      "text/plain": [
       "IntSlider(value=10, description='Waga', max=200, min=10)"
      ]
     },
     "metadata": {},
     "output_type": "display_data"
    },
    {
     "data": {
      "application/vnd.jupyter.widget-view+json": {
       "model_id": "520cc3b6cd32482485ce0a83dc882d19",
       "version_major": 2,
       "version_minor": 0
      },
      "text/plain": [
       "Dropdown(description='Czy palisz?:', options=('Nie', 'Tak'), value='Nie')"
      ]
     },
     "metadata": {},
     "output_type": "display_data"
    },
    {
     "name": "stdout",
     "output_type": "stream",
     "text": [
      "Podaj liczbę swoich dzieci:\n"
     ]
    },
    {
     "data": {
      "application/vnd.jupyter.widget-view+json": {
       "model_id": "e9943a293ea14e9c8f110252ff596a83",
       "version_major": 2,
       "version_minor": 0
      },
      "text/plain": [
       "Dropdown(description='Ilość dzieci:', options=(0, 1, 2, 3, 4, 5, 6), value=0)"
      ]
     },
     "metadata": {},
     "output_type": "display_data"
    },
    {
     "name": "stdout",
     "output_type": "stream",
     "text": [
      "Zaznacz swój region:\n"
     ]
    },
    {
     "data": {
      "application/vnd.jupyter.widget-view+json": {
       "model_id": "14d28a4a11044dce8b6f693e04bf641d",
       "version_major": 2,
       "version_minor": 0
      },
      "text/plain": [
       "RadioButtons(description='Region:', options=('southeast', 'southwest', 'norteast', 'nortwest'), value='southea…"
      ]
     },
     "metadata": {},
     "output_type": "display_data"
    },
    {
     "data": {
      "application/vnd.jupyter.widget-view+json": {
       "model_id": "127bf012a10442f4b28b26de308485c0",
       "version_major": 2,
       "version_minor": 0
      },
      "text/plain": [
       "Output()"
      ]
     },
     "metadata": {},
     "output_type": "display_data"
    },
    {
     "data": {
      "application/vnd.jupyter.widget-view+json": {
       "model_id": "92133f0f227c4599ace7c8bdd31cb007",
       "version_major": 2,
       "version_minor": 0
      },
      "text/plain": [
       "Button(description='Oblicz', style=ButtonStyle())"
      ]
     },
     "metadata": {},
     "output_type": "display_data"
    }
   ],
   "source": [
    "import ipywidgets as widgets\n",
    "from IPython.display import display\n",
    "import numpy as np\n",
    "import pandas as pd\n",
    "import functions as f\n",
    "import functools\n",
    "df = pd.read_csv(\"dane/insurance_final.csv\")\n",
    "\n",
    "sex_w, age_w, height_w, weight_w, smoker_w, children_w, region_w = f.widgets_pro()\n",
    "\n",
    "output = widgets.Output()\n",
    "display(output)\n",
    "def click_button(button):    \n",
    "    sex, age, bmi, smoker, children, region = f.values(sex_w, age_w, height_w, weight_w, smoker_w, children_w, region_w)\n",
    "    df_created = f.create_df(sex, age, bmi, smoker, children, region)\n",
    "    stawka = f.train_model(df, df_created)\n",
    "    with output:\n",
    "        clear_output()\n",
    "        print(\"Twoja stawka ubezpieczenia:\")\n",
    "        print(stawka)\n",
    "\n",
    "button = widgets.Button(description='Oblicz')\n",
    "button.on_click(click_button)\n",
    "display(button)"
   ]
  }
 ],
 "metadata": {
  "kernelspec": {
   "display_name": "Python 3",
   "language": "python",
   "name": "python3"
  },
  "language_info": {
   "codemirror_mode": {
    "name": "ipython",
    "version": 3
   },
   "file_extension": ".py",
   "mimetype": "text/x-python",
   "name": "python",
   "nbconvert_exporter": "python",
   "pygments_lexer": "ipython3",
   "version": "3.7.6"
  }
 },
 "nbformat": 4,
 "nbformat_minor": 2
}

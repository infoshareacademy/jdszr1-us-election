{
 "cells": [
  {
   "cell_type": "code",
   "execution_count": 2,
   "metadata": {},
   "outputs": [
    {
     "name": "stdout",
     "output_type": "stream",
     "text": [
      "Prosimy o wypełnienie poniższego kwestionariusza i zaznaczenie odpowiednich opcji\n",
      "\n",
      "Zaznacz swoją płeć:\n"
     ]
    },
    {
     "data": {
      "application/vnd.jupyter.widget-view+json": {
       "model_id": "58a41f3fc53a451f8e1ab34d10cafded",
       "version_major": 2,
       "version_minor": 0
      },
      "text/plain": [
       "RadioButtons(description='Płeć:', options=('Kobieta', 'Mężczyzna'), value='Kobieta')"
      ]
     },
     "metadata": {},
     "output_type": "display_data"
    },
    {
     "name": "stdout",
     "output_type": "stream",
     "text": [
      "Podaj swój wiek:\n"
     ]
    },
    {
     "data": {
      "application/vnd.jupyter.widget-view+json": {
       "model_id": "29c57f79b5ef406c9ecb48c065f70f2b",
       "version_major": 2,
       "version_minor": 0
      },
      "text/plain": [
       "IntSlider(value=1, max=120, min=1)"
      ]
     },
     "metadata": {},
     "output_type": "display_data"
    },
    {
     "name": "stdout",
     "output_type": "stream",
     "text": [
      "Podaj swój wzrost (w metrach) oraz wagę (w kilogramach):\n"
     ]
    },
    {
     "data": {
      "application/vnd.jupyter.widget-view+json": {
       "model_id": "efb3916d8bdd4cf8bfe6bacc4ab59619",
       "version_major": 2,
       "version_minor": 0
      },
      "text/plain": [
       "FloatSlider(value=1.0, description='Wzrost', max=2.5, min=1.0, step=0.01)"
      ]
     },
     "metadata": {},
     "output_type": "display_data"
    },
    {
     "data": {
      "application/vnd.jupyter.widget-view+json": {
       "model_id": "11763f90bf454ba3886ed6b3dbbbe14d",
       "version_major": 2,
       "version_minor": 0
      },
      "text/plain": [
       "IntSlider(value=10, description='Waga', max=200, min=10)"
      ]
     },
     "metadata": {},
     "output_type": "display_data"
    },
    {
     "data": {
      "application/vnd.jupyter.widget-view+json": {
       "model_id": "3319282903e14dcab0810d259d75680e",
       "version_major": 2,
       "version_minor": 0
      },
      "text/plain": [
       "Dropdown(description='Czy palisz?:', options=('Nie', 'Tak'), value='Nie')"
      ]
     },
     "metadata": {},
     "output_type": "display_data"
    },
    {
     "name": "stdout",
     "output_type": "stream",
     "text": [
      "Podaj liczbę swoich dzieci:\n"
     ]
    },
    {
     "data": {
      "application/vnd.jupyter.widget-view+json": {
       "model_id": "96fb299d0cc14ecda94792523f8d5184",
       "version_major": 2,
       "version_minor": 0
      },
      "text/plain": [
       "Dropdown(description='Ilość dzieci:', options=(0, 1, 2, 3, 4, 5, 6), value=0)"
      ]
     },
     "metadata": {},
     "output_type": "display_data"
    },
    {
     "name": "stdout",
     "output_type": "stream",
     "text": [
      "Zaznacz swój region:\n"
     ]
    },
    {
     "data": {
      "application/vnd.jupyter.widget-view+json": {
       "model_id": "d23910c93af2488c8950be09b261aced",
       "version_major": 2,
       "version_minor": 0
      },
      "text/plain": [
       "RadioButtons(description='Region:', options=('southeast', 'southwest', 'norteast', 'nortwest'), value='southea…"
      ]
     },
     "metadata": {},
     "output_type": "display_data"
    },
    {
     "data": {
      "application/vnd.jupyter.widget-view+json": {
       "model_id": "6152ebd649634bae82e2963d37a0a43f",
       "version_major": 2,
       "version_minor": 0
      },
      "text/plain": [
       "Output()"
      ]
     },
     "metadata": {},
     "output_type": "display_data"
    },
    {
     "data": {
      "application/vnd.jupyter.widget-view+json": {
       "model_id": "156de9e027ae481caa301d3227c46a8f",
       "version_major": 2,
       "version_minor": 0
      },
      "text/plain": [
       "Button(description='Oblicz', style=ButtonStyle())"
      ]
     },
     "metadata": {},
     "output_type": "display_data"
    }
   ],
   "source": [
    "import ipywidgets as widgets\n",
    "from IPython.display import display\n",
    "import numpy as np\n",
    "import pandas as pd\n",
    "import functions as f\n",
    "import functools\n",
    "df = pd.read_csv(\"dane/insurance_final.csv\")\n",
    "\n",
    "sex_w, age_w, height_w, weight_w, smoker_w, children_w, region_w = f.widgets_pro()\n",
    "\n",
    "output = widgets.Output()\n",
    "display(output)\n",
    "def click_button(button):    \n",
    "    sex, age, bmi, smoker, children, region = f.values(sex_w, age_w, height_w, weight_w, smoker_w, children_w, region_w)\n",
    "    df_created = f.create_df(sex, age, bmi, smoker, children, region)\n",
    "    stawka = f.train_model(df, df_created)\n",
    "    with output:\n",
    "        output.clear_output()\n",
    "        print(f\"Twoja - {round(stawka,2)} USD\")\n",
    "\n",
    "button = widgets.Button(description='Oblicz')\n",
    "button.on_click(click_button)\n",
    "display(button)"
   ]
  }
 ],
 "metadata": {
  "kernelspec": {
   "display_name": "Python 3",
   "language": "python",
   "name": "python3"
  },
  "language_info": {
   "codemirror_mode": {
    "name": "ipython",
    "version": 3
   },
   "file_extension": ".py",
   "mimetype": "text/x-python",
   "name": "python",
   "nbconvert_exporter": "python",
   "pygments_lexer": "ipython3",
   "version": "3.7.6"
  }
 },
 "nbformat": 4,
 "nbformat_minor": 2
}

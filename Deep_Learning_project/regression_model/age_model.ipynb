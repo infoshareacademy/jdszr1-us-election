{
 "cells": [
  {
   "cell_type": "code",
   "execution_count": 1,
   "metadata": {
    "id": "6YGBnWYfbgSi"
   },
   "outputs": [],
   "source": [
    "import numpy as np\n",
    "import pandas as pd\n",
    "import matplotlib.pyplot as plt\n",
    "import cv2\n",
    "from sklearn.model_selection import train_test_split\n",
    "from sklearn.preprocessing import OneHotEncoder\n",
    "import tensorflow as tf\n",
    "from tensorflow.keras import layers"
   ]
  },
  {
   "cell_type": "code",
   "execution_count": 2,
   "metadata": {
    "colab": {
     "base_uri": "https://localhost:8080/",
     "height": 206
    },
    "id": "2ZVAPx-MbgTQ",
    "outputId": "d7888d06-aa2e-4ab9-b4bb-1d6edd041c96"
   },
   "outputs": [
    {
     "data": {
      "text/html": [
       "<div>\n",
       "<style scoped>\n",
       "    .dataframe tbody tr th:only-of-type {\n",
       "        vertical-align: middle;\n",
       "    }\n",
       "\n",
       "    .dataframe tbody tr th {\n",
       "        vertical-align: top;\n",
       "    }\n",
       "\n",
       "    .dataframe thead th {\n",
       "        text-align: right;\n",
       "    }\n",
       "</style>\n",
       "<table border=\"1\" class=\"dataframe\">\n",
       "  <thead>\n",
       "    <tr style=\"text-align: right;\">\n",
       "      <th></th>\n",
       "      <th>age</th>\n",
       "      <th>ethnicity</th>\n",
       "      <th>gender</th>\n",
       "      <th>img_name</th>\n",
       "      <th>pixels</th>\n",
       "    </tr>\n",
       "  </thead>\n",
       "  <tbody>\n",
       "    <tr>\n",
       "      <th>0</th>\n",
       "      <td>1</td>\n",
       "      <td>2</td>\n",
       "      <td>0</td>\n",
       "      <td>20161219203650636.jpg.chip.jpg</td>\n",
       "      <td>129 128 128 126 127 130 133 135 139 142 145 14...</td>\n",
       "    </tr>\n",
       "    <tr>\n",
       "      <th>1</th>\n",
       "      <td>1</td>\n",
       "      <td>2</td>\n",
       "      <td>0</td>\n",
       "      <td>20161219222752047.jpg.chip.jpg</td>\n",
       "      <td>164 74 111 168 169 171 175 182 184 188 193 199...</td>\n",
       "    </tr>\n",
       "    <tr>\n",
       "      <th>2</th>\n",
       "      <td>1</td>\n",
       "      <td>2</td>\n",
       "      <td>0</td>\n",
       "      <td>20161219222832191.jpg.chip.jpg</td>\n",
       "      <td>67 70 71 70 69 67 70 79 90 103 116 132 145 155...</td>\n",
       "    </tr>\n",
       "    <tr>\n",
       "      <th>3</th>\n",
       "      <td>1</td>\n",
       "      <td>2</td>\n",
       "      <td>0</td>\n",
       "      <td>20161220144911423.jpg.chip.jpg</td>\n",
       "      <td>193 197 198 200 199 200 202 203 204 205 208 21...</td>\n",
       "    </tr>\n",
       "    <tr>\n",
       "      <th>4</th>\n",
       "      <td>1</td>\n",
       "      <td>2</td>\n",
       "      <td>0</td>\n",
       "      <td>20161220144914327.jpg.chip.jpg</td>\n",
       "      <td>202 205 209 210 209 209 210 211 212 214 218 21...</td>\n",
       "    </tr>\n",
       "  </tbody>\n",
       "</table>\n",
       "</div>"
      ],
      "text/plain": [
       "   age  ethnicity  gender                        img_name  \\\n",
       "0    1          2       0  20161219203650636.jpg.chip.jpg   \n",
       "1    1          2       0  20161219222752047.jpg.chip.jpg   \n",
       "2    1          2       0  20161219222832191.jpg.chip.jpg   \n",
       "3    1          2       0  20161220144911423.jpg.chip.jpg   \n",
       "4    1          2       0  20161220144914327.jpg.chip.jpg   \n",
       "\n",
       "                                              pixels  \n",
       "0  129 128 128 126 127 130 133 135 139 142 145 14...  \n",
       "1  164 74 111 168 169 171 175 182 184 188 193 199...  \n",
       "2  67 70 71 70 69 67 70 79 90 103 116 132 145 155...  \n",
       "3  193 197 198 200 199 200 202 203 204 205 208 21...  \n",
       "4  202 205 209 210 209 209 210 211 212 214 218 21...  "
      ]
     },
     "execution_count": 2,
     "metadata": {},
     "output_type": "execute_result"
    }
   ],
   "source": [
    "data = pd.read_csv(\"age_gender.csv\")\n",
    "data.head()"
   ]
  },
  {
   "cell_type": "code",
   "execution_count": 3,
   "metadata": {
    "colab": {
     "base_uri": "https://localhost:8080/"
    },
    "id": "cFIL06MFbgTh",
    "outputId": "1fc1f5e9-e05d-42dd-f342-9865b0a83363"
   },
   "outputs": [
    {
     "data": {
      "text/plain": [
       "0    12391\n",
       "1    11314\n",
       "Name: gender, dtype: int64"
      ]
     },
     "execution_count": 3,
     "metadata": {},
     "output_type": "execute_result"
    }
   ],
   "source": [
    "data[\"gender\"].value_counts()"
   ]
  },
  {
   "cell_type": "code",
   "execution_count": 4,
   "metadata": {
    "colab": {
     "base_uri": "https://localhost:8080/"
    },
    "id": "kigxxhQjbgTx",
    "outputId": "b2495321-0959-45b7-d56c-ca94da89bfa2"
   },
   "outputs": [
    {
     "data": {
      "text/plain": [
       "0    10078\n",
       "1     4526\n",
       "3     3975\n",
       "2     3434\n",
       "4     1692\n",
       "Name: ethnicity, dtype: int64"
      ]
     },
     "execution_count": 4,
     "metadata": {},
     "output_type": "execute_result"
    }
   ],
   "source": [
    "data[\"ethnicity\"].value_counts()"
   ]
  },
  {
   "cell_type": "code",
   "execution_count": 5,
   "metadata": {
    "colab": {
     "base_uri": "https://localhost:8080/"
    },
    "id": "p07BAXYRbgT-",
    "outputId": "6e0efe51-3b62-4eba-db68-ca7fa19be4fd"
   },
   "outputs": [
    {
     "data": {
      "text/plain": [
       "<bound method Series.sort_values of 0         1\n",
       "1         1\n",
       "2         1\n",
       "3         1\n",
       "4         1\n",
       "         ..\n",
       "23700    99\n",
       "23701    99\n",
       "23702    99\n",
       "23703    99\n",
       "23704    99\n",
       "Name: age, Length: 23705, dtype: int64>"
      ]
     },
     "execution_count": 5,
     "metadata": {},
     "output_type": "execute_result"
    }
   ],
   "source": [
    "data[\"age\"].sort_values"
   ]
  },
  {
   "cell_type": "code",
   "execution_count": 6,
   "metadata": {
    "colab": {
     "base_uri": "https://localhost:8080/",
     "height": 1000
    },
    "id": "azlaXjCwbgUO",
    "outputId": "75d12ebb-53a2-45f5-f647-8d05376a13bb"
   },
   "outputs": [
    {
     "data": {
      "text/plain": [
       "(array([1.605e+03, 2.890e+02, 2.730e+02, 1.960e+02, 1.310e+02, 1.390e+02,\n",
       "        4.290e+02, 1.560e+02, 6.500e+01, 1.300e+02, 8.100e+01, 1.570e+02,\n",
       "        4.240e+02, 1.580e+02, 2.620e+02, 9.800e+01, 2.840e+02, 3.460e+02,\n",
       "        8.210e+02, 8.590e+02, 7.340e+02, 2.197e+03, 6.150e+02, 9.180e+02,\n",
       "        1.294e+03, 3.500e+02, 6.640e+02, 1.430e+02, 4.090e+02, 8.800e+02,\n",
       "        7.760e+02, 3.250e+02, 2.650e+02, 5.260e+02, 1.320e+02, 2.660e+02,\n",
       "        1.570e+02, 5.400e+02, 1.530e+02, 1.700e+02, 1.530e+02, 1.480e+02,\n",
       "        3.810e+02, 3.700e+02, 2.410e+02, 3.530e+02, 2.680e+02, 2.360e+02,\n",
       "        9.700e+01, 3.530e+02, 2.930e+02, 1.590e+02, 1.250e+02, 1.030e+02,\n",
       "        5.000e+01, 3.360e+02, 9.400e+01, 1.000e+02, 5.600e+01, 1.470e+02,\n",
       "        3.300e+01, 1.610e+02, 3.200e+01, 1.480e+02, 5.800e+01, 2.800e+01,\n",
       "        6.900e+01, 2.300e+01, 1.550e+02, 4.000e+01, 1.800e+01, 2.400e+01,\n",
       "        1.550e+02, 3.500e+01, 4.400e+01, 3.300e+01, 8.200e+01, 2.000e+00,\n",
       "        1.300e+01, 5.000e+00, 9.000e+00, 1.700e+01, 0.000e+00, 0.000e+00,\n",
       "        9.000e+00, 1.100e+01, 2.000e+00, 1.000e+00, 0.000e+00, 5.000e+00,\n",
       "        0.000e+00, 0.000e+00, 0.000e+00, 5.000e+00, 1.000e+00, 0.000e+00,\n",
       "        0.000e+00, 0.000e+00, 7.000e+00]),\n",
       " array([  1.        ,   2.16161616,   3.32323232,   4.48484848,\n",
       "          5.64646465,   6.80808081,   7.96969697,   9.13131313,\n",
       "         10.29292929,  11.45454545,  12.61616162,  13.77777778,\n",
       "         14.93939394,  16.1010101 ,  17.26262626,  18.42424242,\n",
       "         19.58585859,  20.74747475,  21.90909091,  23.07070707,\n",
       "         24.23232323,  25.39393939,  26.55555556,  27.71717172,\n",
       "         28.87878788,  30.04040404,  31.2020202 ,  32.36363636,\n",
       "         33.52525253,  34.68686869,  35.84848485,  37.01010101,\n",
       "         38.17171717,  39.33333333,  40.49494949,  41.65656566,\n",
       "         42.81818182,  43.97979798,  45.14141414,  46.3030303 ,\n",
       "         47.46464646,  48.62626263,  49.78787879,  50.94949495,\n",
       "         52.11111111,  53.27272727,  54.43434343,  55.5959596 ,\n",
       "         56.75757576,  57.91919192,  59.08080808,  60.24242424,\n",
       "         61.4040404 ,  62.56565657,  63.72727273,  64.88888889,\n",
       "         66.05050505,  67.21212121,  68.37373737,  69.53535354,\n",
       "         70.6969697 ,  71.85858586,  73.02020202,  74.18181818,\n",
       "         75.34343434,  76.50505051,  77.66666667,  78.82828283,\n",
       "         79.98989899,  81.15151515,  82.31313131,  83.47474747,\n",
       "         84.63636364,  85.7979798 ,  86.95959596,  88.12121212,\n",
       "         89.28282828,  90.44444444,  91.60606061,  92.76767677,\n",
       "         93.92929293,  95.09090909,  96.25252525,  97.41414141,\n",
       "         98.57575758,  99.73737374, 100.8989899 , 102.06060606,\n",
       "        103.22222222, 104.38383838, 105.54545455, 106.70707071,\n",
       "        107.86868687, 109.03030303, 110.19191919, 111.35353535,\n",
       "        112.51515152, 113.67676768, 114.83838384, 116.        ]),\n",
       " <BarContainer object of 99 artists>)"
      ]
     },
     "execution_count": 6,
     "metadata": {},
     "output_type": "execute_result"
    },
    {
     "data": {
      "image/png": "[encoded data removed]",
      "text/plain": [
       "<Figure size 432x288 with 1 Axes>"
      ]
     },
     "metadata": {
      "needs_background": "light"
     },
     "output_type": "display_data"
    }
   ],
   "source": [
    "plt.hist(np.array(data[\"age\"]), bins=99)"
   ]
  },
  {
   "cell_type": "code",
   "execution_count": 7,
   "metadata": {
    "id": "61E4s62UbgUZ"
   },
   "outputs": [],
   "source": [
    "data = data[data['age'] <= 90]"
   ]
  },
  {
   "cell_type": "code",
   "execution_count": 8,
   "metadata": {
    "id": "srSHb7pYbgUn"
   },
   "outputs": [],
   "source": [
    "x = data[\"pixels\"]"
   ]
  },
  {
   "cell_type": "code",
   "execution_count": 9,
   "metadata": {
    "id": "kYv-mjKpbgUz"
   },
   "outputs": [],
   "source": [
    "y_age = np.array(data[\"age\"])\n",
    "y_gender = data[\"gender\"]"
   ]
  },
  {
   "cell_type": "code",
   "execution_count": 10,
   "metadata": {
    "colab": {
     "base_uri": "https://localhost:8080/"
    },
    "id": "bNuQHvb4bgU8",
    "outputId": "6662731a-d6c5-4952-9f8f-e30bd211dace"
   },
   "outputs": [
    {
     "data": {
      "text/plain": [
       "array([ 1,  1,  1, ..., 90, 90, 90])"
      ]
     },
     "execution_count": 10,
     "metadata": {},
     "output_type": "execute_result"
    }
   ],
   "source": [
    "y_age"
   ]
  },
  {
   "cell_type": "code",
   "execution_count": 11,
   "metadata": {
    "colab": {
     "base_uri": "https://localhost:8080/"
    },
    "id": "sML5Wav8bgVG",
    "outputId": "b4845c49-ab08-4a6d-d918-9737ee42263b"
   },
   "outputs": [
    {
     "data": {
      "text/plain": [
       "2304"
      ]
     },
     "execution_count": 11,
     "metadata": {},
     "output_type": "execute_result"
    }
   ],
   "source": [
    "len(x[0].split(' '))"
   ]
  },
  {
   "cell_type": "code",
   "execution_count": 12,
   "metadata": {
    "colab": {
     "base_uri": "https://localhost:8080/"
    },
    "id": "IBxR9Kz0bgVP",
    "outputId": "1a1ea751-4796-4ca9-f5b1-d65a0002b51f"
   },
   "outputs": [
    {
     "data": {
      "text/plain": [
       "48.0"
      ]
     },
     "execution_count": 12,
     "metadata": {},
     "output_type": "execute_result"
    }
   ],
   "source": [
    "np.sqrt(len(x[0].split(' ')))"
   ]
  },
  {
   "cell_type": "code",
   "execution_count": 13,
   "metadata": {
    "id": "Ms6EI6D4bgVX"
   },
   "outputs": [],
   "source": [
    "num_pixels = 2304\n",
    "img_height = 48\n",
    "img_width = 48"
   ]
  },
  {
   "cell_type": "code",
   "execution_count": 14,
   "metadata": {
    "id": "7aqgw1QPbgVe"
   },
   "outputs": [],
   "source": [
    "x = x.apply(lambda x: x.split(' '))\n",
    "x = x.apply(lambda x: np.array(list(map(lambda z: np.int(z), x))))\n",
    "x = np.array(x)\n",
    "x = np.stack(np.array(x), axis=0)\n",
    "x = np.reshape(x, (-1, 48, 48))"
   ]
  },
  {
   "cell_type": "code",
   "execution_count": 15,
   "metadata": {
    "colab": {
     "base_uri": "https://localhost:8080/",
     "height": 267
    },
    "id": "R2CxNor4bgVl",
    "outputId": "fc4e5512-b904-4955-be53-a31351e26e54"
   },
   "outputs": [
    {
     "data": {
      "image/png": "[encoded data removed]",
      "text/plain": [
       "<Figure size 432x288 with 1 Axes>"
      ]
     },
     "metadata": {
      "needs_background": "light"
     },
     "output_type": "display_data"
    }
   ],
   "source": [
    "x_num = 19903\n",
    "plt.imshow(x[x_num], cmap=\"gray\")\n",
    "plt.show()"
   ]
  },
  {
   "cell_type": "code",
   "execution_count": 16,
   "metadata": {
    "id": "t3juMwBsbgVw"
   },
   "outputs": [],
   "source": [
    "x_train, x_test, y_train, y_test = train_test_split(x, y_age, test_size=0.2, random_state=1)"
   ]
  },
  {
   "cell_type": "code",
   "execution_count": 17,
   "metadata": {
    "id": "myHXIXzNbgV4"
   },
   "outputs": [],
   "source": [
    "y_train = y_train.astype(np.float32)\n",
    "y_test = y_test.astype(np.float32)"
   ]
  },
  {
   "cell_type": "code",
   "execution_count": 18,
   "metadata": {
    "colab": {
     "base_uri": "https://localhost:8080/"
    },
    "id": "cFSlbxxabgV-",
    "outputId": "4441e34b-ff80-444a-e845-b5bc7a8bd8db"
   },
   "outputs": [
    {
     "name": "stdout",
     "output_type": "stream",
     "text": [
      "y_test.shape:  (4724,)\n",
      "y_train.shape:  (18894,)\n"
     ]
    }
   ],
   "source": [
    "#y_test = OneHotEncoder().fit_transform(y_test.reshape(-1,1)).toarray()\n",
    "y_test = y_test.astype(np.float32)\n",
    "\n",
    "#y_train = OneHotEncoder().fit_transform(y_train.reshape(-1,1)).toarray()\n",
    "y_train = y_train.astype(np.float32)\n",
    "\n",
    "print(\"y_test.shape: \", y_test.shape)\n",
    "print(\"y_train.shape: \", y_train.shape)"
   ]
  },
  {
   "cell_type": "code",
   "execution_count": 19,
   "metadata": {
    "id": "QOYqbMkBbgWI"
   },
   "outputs": [],
   "source": [
    "x_train, x_test = x_train / 255.0, x_test / 255.0"
   ]
  },
  {
   "cell_type": "code",
   "execution_count": 20,
   "metadata": {
    "id": "u6l5PNAjbgWR"
   },
   "outputs": [],
   "source": [
    "x_train = x_train.astype(np.float32)\n",
    "x_test = x_test.astype(np.float32)"
   ]
  },
  {
   "cell_type": "code",
   "execution_count": 21,
   "metadata": {
    "colab": {
     "base_uri": "https://localhost:8080/"
    },
    "id": "MOnhSKbRbgWX",
    "outputId": "444bced8-a9cc-49ed-f63c-7d31d23c65ec"
   },
   "outputs": [
    {
     "name": "stdout",
     "output_type": "stream",
     "text": [
      "x_train shape:  (18894, 48, 48)\n",
      "x_test shape:  (4724, 48, 48)\n"
     ]
    }
   ],
   "source": [
    "print(\"x_train shape: \", x_train.shape)\n",
    "print(\"x_test shape: \", x_test.shape)"
   ]
  },
  {
   "cell_type": "code",
   "execution_count": 22,
   "metadata": {
    "colab": {
     "base_uri": "https://localhost:8080/",
     "height": 310
    },
    "id": "FEuaMaN-bgWj",
    "outputId": "cd561244-efb2-4b7c-a750-65dfc6eb9ea0"
   },
   "outputs": [
    {
     "name": "stdout",
     "output_type": "stream",
     "text": [
      "Label:  0\n"
     ]
    },
    {
     "data": {
      "text/plain": [
       "<Figure size 432x288 with 0 Axes>"
      ]
     },
     "metadata": {},
     "output_type": "display_data"
    },
    {
     "data": {
      "image/png": "[encoded data removed]",
      "text/plain": [
       "<Figure size 288x288 with 1 Axes>"
      ]
     },
     "metadata": {
      "needs_background": "light"
     },
     "output_type": "display_data"
    }
   ],
   "source": [
    "n = 2376\n",
    "plt.gray()\n",
    "plt.matshow(x_train[n])\n",
    "print(\"Label: \", np.argmax(y_train[n]))"
   ]
  },
  {
   "cell_type": "code",
   "execution_count": 23,
   "metadata": {
    "colab": {
     "base_uri": "https://localhost:8080/"
    },
    "id": "VwHJO5ZSbgWu",
    "outputId": "0d4ede55-c447-4c99-ab90-55c4e2290a2c"
   },
   "outputs": [
    {
     "data": {
      "text/plain": [
       "(18894, 48, 48)"
      ]
     },
     "execution_count": 23,
     "metadata": {},
     "output_type": "execute_result"
    }
   ],
   "source": [
    "x_train.shape"
   ]
  },
  {
   "cell_type": "code",
   "execution_count": 24,
   "metadata": {
    "id": "888BAicUbgW6"
   },
   "outputs": [],
   "source": [
    "x_train = x_train.reshape(-1,48,48,1)"
   ]
  },
  {
   "cell_type": "code",
   "execution_count": 82,
   "metadata": {
    "colab": {
     "base_uri": "https://localhost:8080/"
    },
    "id": "WsYd-3WMbgXQ",
    "outputId": "d1c0a6bf-c248-40d9-dc23-f87c3a463eba"
   },
   "outputs": [
    {
     "name": "stdout",
     "output_type": "stream",
     "text": [
      "Model: \"sequential_7\"\n",
      "_________________________________________________________________\n",
      "Layer (type)                 Output Shape              Param #   \n",
      "=================================================================\n",
      "conv2d_14 (Conv2D)           (None, 48, 48, 16)        160       \n",
      "_________________________________________________________________\n",
      "max_pooling2d_14 (MaxPooling (None, 24, 24, 16)        0         \n",
      "_________________________________________________________________\n",
      "conv2d_15 (Conv2D)           (None, 24, 24, 32)        4640      \n",
      "_________________________________________________________________\n",
      "max_pooling2d_15 (MaxPooling (None, 12, 12, 32)        0         \n",
      "_________________________________________________________________\n",
      "flatten_7 (Flatten)          (None, 4608)              0         \n",
      "_________________________________________________________________\n",
      "dense_14 (Dense)             (None, 128)               589952    \n",
      "_________________________________________________________________\n",
      "dropout_7 (Dropout)          (None, 128)               0         \n",
      "_________________________________________________________________\n",
      "dense_15 (Dense)             (None, 1)                 129       \n",
      "=================================================================\n",
      "Total params: 594,881\n",
      "Trainable params: 594,881\n",
      "Non-trainable params: 0\n",
      "_________________________________________________________________\n"
     ]
    }
   ],
   "source": [
    "model_age = tf.keras.Sequential()\n",
    "model_age.add(layers.InputLayer(input_shape=x_train.shape[1:]))\n",
    "model_age.add(layers.Conv2D(filters=16, kernel_size=3, strides=1, padding=\"SAME\", activation=\"relu\"))\n",
    "model_age.add(layers.MaxPool2D(pool_size=2, strides=2, padding=\"SAME\"))\n",
    "model_age.add(layers.Conv2D(filters=32, kernel_size=3, strides=1, padding=\"SAME\", activation=\"relu\"))\n",
    "model_age.add(layers.MaxPool2D(pool_size=2, strides=2, padding=\"SAME\"))\n",
    "#model_age.add(layers.Conv2D(filters=128, kernel_size=3, strides=1, padding=\"SAME\", activation=\"relu\"))\n",
    "#model_age.add(layers.MaxPool2D(pool_size=2, strides=2, padding=\"SAME\"))\n",
    "model_age.add(layers.Flatten())\n",
    "model_age.add(layers.Dense(128))\n",
    "model_age.add(layers.Dropout(0.2))\n",
    "model_age.add(layers.Dense(units=1))\n",
    "\n",
    "model_age.summary()\n"
   ]
  },
  {
   "cell_type": "code",
   "execution_count": 83,
   "metadata": {
    "id": "aWLVhocxbgXZ"
   },
   "outputs": [],
   "source": [
    "model_age.compile(\n",
    "    optimizer=\"adam\",\n",
    "    loss='mean_squared_error',\n",
    "    metrics=['mae']\n",
    ")"
   ]
  },
  {
   "cell_type": "code",
   "execution_count": 84,
   "metadata": {
    "colab": {
     "base_uri": "https://localhost:8080/"
    },
    "id": "aZsyjIAzbgXd",
    "outputId": "439d8e3f-12cb-446b-e365-b995621b0002"
   },
   "outputs": [
    {
     "name": "stdout",
     "output_type": "stream",
     "text": [
      "Epoch 1/50\n",
      "180/180 [==============================] - 39s 216ms/step - loss: 404.4998 - mae: 15.4834 - val_loss: 307.2848 - val_mae: 13.0616\n",
      "Epoch 2/50\n",
      "180/180 [==============================] - 39s 217ms/step - loss: 226.9804 - mae: 11.6743 - val_loss: 227.7967 - val_mae: 11.4312\n",
      "Epoch 3/50\n",
      "180/180 [==============================] - 40s 222ms/step - loss: 202.4117 - mae: 11.0143 - val_loss: 217.8877 - val_mae: 11.5842\n",
      "Epoch 4/50\n",
      "180/180 [==============================] - 40s 220ms/step - loss: 188.2206 - mae: 10.6353 - val_loss: 199.5607 - val_mae: 10.8093\n",
      "Epoch 5/50\n",
      "180/180 [==============================] - 39s 216ms/step - loss: 178.1200 - mae: 10.3041 - val_loss: 199.3484 - val_mae: 11.1707\n",
      "Epoch 6/50\n",
      "180/180 [==============================] - 39s 217ms/step - loss: 170.6694 - mae: 10.0962 - val_loss: 175.1877 - val_mae: 10.1294\n",
      "Epoch 7/50\n",
      "180/180 [==============================] - 40s 225ms/step - loss: 163.9380 - mae: 9.9164 - val_loss: 172.8951 - val_mae: 10.1628\n",
      "Epoch 8/50\n",
      "180/180 [==============================] - 40s 219ms/step - loss: 159.5527 - mae: 9.7717 - val_loss: 166.0840 - val_mae: 9.7035\n",
      "Epoch 9/50\n",
      "180/180 [==============================] - 47s 263ms/step - loss: 150.8902 - mae: 9.4941 - val_loss: 172.2031 - val_mae: 10.3157\n",
      "Epoch 10/50\n",
      "180/180 [==============================] - 40s 224ms/step - loss: 146.1348 - mae: 9.3748 - val_loss: 170.8087 - val_mae: 10.3103\n",
      "Epoch 11/50\n",
      "180/180 [==============================] - 41s 227ms/step - loss: 145.9791 - mae: 9.3532 - val_loss: 161.0312 - val_mae: 9.4588\n",
      "Epoch 12/50\n",
      "180/180 [==============================] - 41s 227ms/step - loss: 139.5508 - mae: 9.1264 - val_loss: 149.8384 - val_mae: 9.4221\n",
      "Epoch 13/50\n",
      "180/180 [==============================] - 40s 224ms/step - loss: 138.7309 - mae: 9.1329 - val_loss: 149.7298 - val_mae: 9.4391\n",
      "Epoch 14/50\n",
      "180/180 [==============================] - 42s 231ms/step - loss: 137.9747 - mae: 9.0967 - val_loss: 163.5860 - val_mae: 9.5424\n",
      "Epoch 15/50\n",
      "180/180 [==============================] - 42s 231ms/step - loss: 130.7830 - mae: 8.8333 - val_loss: 148.1268 - val_mae: 9.1741\n",
      "Epoch 16/50\n",
      "180/180 [==============================] - 41s 229ms/step - loss: 132.9444 - mae: 8.9326 - val_loss: 151.8130 - val_mae: 9.4433\n",
      "Epoch 17/50\n",
      "180/180 [==============================] - 43s 238ms/step - loss: 131.6272 - mae: 8.8850 - val_loss: 154.2388 - val_mae: 9.6904\n",
      "Epoch 18/50\n",
      "180/180 [==============================] - 40s 220ms/step - loss: 127.5240 - mae: 8.7663 - val_loss: 146.5543 - val_mae: 9.1669\n",
      "Epoch 19/50\n",
      "180/180 [==============================] - 40s 222ms/step - loss: 124.7654 - mae: 8.6666 - val_loss: 149.6156 - val_mae: 9.2729\n",
      "Epoch 20/50\n",
      "180/180 [==============================] - 40s 221ms/step - loss: 121.6389 - mae: 8.5376 - val_loss: 145.0729 - val_mae: 9.0952\n",
      "Epoch 21/50\n",
      "180/180 [==============================] - 39s 218ms/step - loss: 121.2696 - mae: 8.5366 - val_loss: 163.3782 - val_mae: 9.5531\n",
      "Epoch 22/50\n",
      "180/180 [==============================] - 40s 224ms/step - loss: 122.0764 - mae: 8.5678 - val_loss: 144.2248 - val_mae: 9.1222\n",
      "Epoch 23/50\n",
      "180/180 [==============================] - 40s 221ms/step - loss: 119.0948 - mae: 8.4649 - val_loss: 140.6451 - val_mae: 9.0606\n",
      "Epoch 24/50\n",
      "180/180 [==============================] - 40s 224ms/step - loss: 117.9373 - mae: 8.4539 - val_loss: 137.0892 - val_mae: 8.9818\n",
      "Epoch 25/50\n",
      "180/180 [==============================] - 40s 221ms/step - loss: 116.0632 - mae: 8.3519 - val_loss: 139.8257 - val_mae: 8.9709\n",
      "Epoch 26/50\n",
      "180/180 [==============================] - 39s 218ms/step - loss: 116.6276 - mae: 8.3670 - val_loss: 139.8258 - val_mae: 8.9374\n",
      "Epoch 27/50\n",
      "180/180 [==============================] - 41s 230ms/step - loss: 114.8097 - mae: 8.3011 - val_loss: 137.5378 - val_mae: 9.0149\n",
      "Epoch 28/50\n",
      "180/180 [==============================] - 40s 220ms/step - loss: 112.7841 - mae: 8.2180 - val_loss: 140.9813 - val_mae: 9.1654\n",
      "Epoch 29/50\n",
      "180/180 [==============================] - 40s 222ms/step - loss: 112.4363 - mae: 8.2171 - val_loss: 141.9057 - val_mae: 9.2635\n",
      "Epoch 30/50\n",
      "180/180 [==============================] - 41s 226ms/step - loss: 117.7162 - mae: 8.4364 - val_loss: 139.5280 - val_mae: 8.9489\n",
      "Epoch 31/50\n",
      "180/180 [==============================] - 40s 223ms/step - loss: 111.0792 - mae: 8.1840 - val_loss: 140.3299 - val_mae: 9.0348\n",
      "Epoch 32/50\n",
      "180/180 [==============================] - 41s 230ms/step - loss: 113.0599 - mae: 8.2499 - val_loss: 135.1818 - val_mae: 8.8777\n",
      "Epoch 33/50\n",
      "180/180 [==============================] - 41s 226ms/step - loss: 109.9391 - mae: 8.1168 - val_loss: 136.6521 - val_mae: 9.0124\n",
      "Epoch 34/50\n",
      "180/180 [==============================] - 40s 225ms/step - loss: 109.9822 - mae: 8.1359 - val_loss: 138.4041 - val_mae: 8.9413\n",
      "Epoch 35/50\n",
      "180/180 [==============================] - 41s 228ms/step - loss: 109.1627 - mae: 8.0857 - val_loss: 143.9817 - val_mae: 9.3672\n",
      "Epoch 36/50\n",
      "180/180 [==============================] - 37s 208ms/step - loss: 111.1872 - mae: 8.1785 - val_loss: 135.9870 - val_mae: 8.9011\n",
      "Epoch 37/50\n",
      "180/180 [==============================] - 39s 214ms/step - loss: 105.3330 - mae: 7.9451 - val_loss: 157.1225 - val_mae: 9.4841\n",
      "Epoch 38/50\n",
      "180/180 [==============================] - 38s 211ms/step - loss: 105.6612 - mae: 7.9497 - val_loss: 136.1180 - val_mae: 8.9725\n",
      "Epoch 39/50\n",
      "180/180 [==============================] - 37s 207ms/step - loss: 105.3087 - mae: 7.9895 - val_loss: 134.9936 - val_mae: 8.8049\n",
      "Epoch 40/50\n",
      "180/180 [==============================] - 39s 219ms/step - loss: 106.6204 - mae: 8.0039 - val_loss: 138.4049 - val_mae: 8.8658\n",
      "Epoch 41/50\n",
      "180/180 [==============================] - 38s 213ms/step - loss: 106.0585 - mae: 8.0042 - val_loss: 135.9008 - val_mae: 8.8371\n",
      "Epoch 42/50\n",
      "180/180 [==============================] - 38s 211ms/step - loss: 105.0276 - mae: 7.9454 - val_loss: 151.3512 - val_mae: 9.6836\n",
      "Epoch 43/50\n",
      "180/180 [==============================] - 38s 211ms/step - loss: 104.3544 - mae: 7.9352 - val_loss: 135.9644 - val_mae: 8.8817\n",
      "Epoch 44/50\n",
      "180/180 [==============================] - 37s 208ms/step - loss: 102.5952 - mae: 7.8818 - val_loss: 134.1949 - val_mae: 8.8222\n",
      "Epoch 45/50\n",
      "180/180 [==============================] - 38s 209ms/step - loss: 103.6853 - mae: 7.9191 - val_loss: 137.2604 - val_mae: 9.0302\n",
      "Epoch 46/50\n",
      "180/180 [==============================] - 38s 213ms/step - loss: 105.2998 - mae: 7.9719 - val_loss: 135.8465 - val_mae: 8.9795\n",
      "Epoch 47/50\n",
      "180/180 [==============================] - 38s 212ms/step - loss: 102.6523 - mae: 7.8661 - val_loss: 138.3588 - val_mae: 8.8415\n",
      "Epoch 48/50\n",
      "180/180 [==============================] - 40s 223ms/step - loss: 100.9698 - mae: 7.7958 - val_loss: 136.5788 - val_mae: 8.7704\n",
      "Epoch 49/50\n",
      "180/180 [==============================] - 39s 215ms/step - loss: 101.4488 - mae: 7.8246 - val_loss: 145.1888 - val_mae: 9.0220\n",
      "Epoch 50/50\n",
      "180/180 [==============================] - 38s 212ms/step - loss: 101.1313 - mae: 7.7938 - val_loss: 142.2930 - val_mae: 9.2919\n"
     ]
    }
   ],
   "source": [
    "history = model_age.fit(\n",
    "    x=x_train,\n",
    "    y=y_train,\n",
    "    batch_size=100,\n",
    "    epochs=50,\n",
    "    validation_split=0.05\n",
    ")"
   ]
  },
  {
   "cell_type": "code",
   "execution_count": 85,
   "metadata": {
    "colab": {
     "base_uri": "https://localhost:8080/"
    },
    "id": "5T0U9ZasbgXm",
    "outputId": "3ca991ae-0547-49a0-a633-ba4d1eb2b05a"
   },
   "outputs": [
    {
     "data": {
      "text/plain": [
       "dict_keys(['loss', 'mae', 'val_loss', 'val_mae'])"
      ]
     },
     "execution_count": 85,
     "metadata": {},
     "output_type": "execute_result"
    }
   ],
   "source": [
    "history.history.keys()"
   ]
  },
  {
   "cell_type": "code",
   "execution_count": 86,
   "metadata": {
    "id": "1xoadb_ZbgXy"
   },
   "outputs": [],
   "source": [
    "x_test = x_test.reshape(-1,48,48,1)"
   ]
  },
  {
   "cell_type": "code",
   "execution_count": 87,
   "metadata": {
    "id": "V0ZUWZOwbgX-"
   },
   "outputs": [],
   "source": [
    "y_pred = model_age.predict(x_test)"
   ]
  },
  {
   "cell_type": "code",
   "execution_count": 88,
   "metadata": {
    "colab": {
     "base_uri": "https://localhost:8080/",
     "height": 282
    },
    "id": "wK03kqE1bgYE",
    "outputId": "db16bc04-d9c2-4370-b3ec-9347337f0c39"
   },
   "outputs": [
    {
     "data": {
      "image/png": "[encoded data removed]",
      "text/plain": [
       "<Figure size 432x288 with 1 Axes>"
      ]
     },
     "metadata": {
      "needs_background": "light"
     },
     "output_type": "display_data"
    }
   ],
   "source": [
    "plt.plot(history.history['loss'])\n",
    "plt.xlabel(\"epochs\")\n",
    "plt.ylabel(\"mean_squared_error\")\n",
    "plt.title(\"Mean Squared Error evolution\")\n",
    "plt.show()"
   ]
  },
  {
   "cell_type": "code",
   "execution_count": 89,
   "metadata": {},
   "outputs": [
    {
     "data": {
      "image/png": "[encoded data removed]",
      "text/plain": [
       "<Figure size 432x288 with 1 Axes>"
      ]
     },
     "metadata": {
      "needs_background": "light"
     },
     "output_type": "display_data"
    }
   ],
   "source": [
    "plt.plot(history.history['val_loss'])\n",
    "plt.xlabel(\"epochs\")\n",
    "plt.ylabel(\"mean_squared_error\")\n",
    "plt.title(\"Mean Squared Error evolution (validation)\")\n",
    "plt.show()"
   ]
  },
  {
   "cell_type": "code",
   "execution_count": 94,
   "metadata": {
    "colab": {
     "base_uri": "https://localhost:8080/",
     "height": 267
    },
    "id": "kmlKKzI7bgYJ",
    "outputId": "d9bbb548-3e68-45eb-bfbf-e420e9ab2221"
   },
   "outputs": [
    {
     "data": {
      "image/png": "[encoded data removed]",
      "text/plain": [
       "<Figure size 432x288 with 1 Axes>"
      ]
     },
     "metadata": {
      "needs_background": "light"
     },
     "output_type": "display_data"
    }
   ],
   "source": [
    "num = 1456\n",
    "plt.imshow(x_test[num].reshape(48,48), cmap=\"gray\")\n",
    "plt.show()\n",
    "x1 = x_test[num].reshape(1,48,48,1)\n",
    "y1 = new_model.predict(x1)\n",
    "print(f\"Wiek prognozowany: {y1}\")\n",
    "print(f\"Wiek referencyjny: {y_test[num]}\")"
   ]
  },
  {
   "cell_type": "code",
   "execution_count": 99,
   "metadata": {},
   "outputs": [
    {
     "data": {
      "text/plain": [
       "11.309863"
      ]
     },
     "execution_count": 99,
     "metadata": {},
     "output_type": "execute_result"
    }
   ],
   "source": [
    "from sklearn.metrics import mean_squared_error as mse\n",
    "RMSE = np.sqrt(mse(y_test, y_pred))\n",
    "RMSE"
   ]
  },
  {
   "cell_type": "code",
   "execution_count": 100,
   "metadata": {},
   "outputs": [],
   "source": [
    "!mkdir -p saved_model"
   ]
  },
  {
   "cell_type": "code",
   "execution_count": 101,
   "metadata": {},
   "outputs": [
    {
     "name": "stdout",
     "output_type": "stream",
     "text": [
      "WARNING:tensorflow:From /home/joanna/anaconda3/envs/tf/lib/python3.8/site-packages/tensorflow/python/ops/resource_variable_ops.py:1813: calling BaseResourceVariable.__init__ (from tensorflow.python.ops.resource_variable_ops) with constraint is deprecated and will be removed in a future version.\n",
      "Instructions for updating:\n",
      "If using Keras pass *_constraint arguments to layers.\n",
      "INFO:tensorflow:Assets written to: saved_model/model_age_all/assets\n"
     ]
    }
   ],
   "source": [
    "model_age.save('saved_model/model_age_all')"
   ]
  },
  {
   "cell_type": "code",
   "execution_count": null,
   "metadata": {},
   "outputs": [],
   "source": []
  }
 ],
 "metadata": {
  "colab": {
   "name": "zdjecia_gc.ipynb",
   "provenance": []
  },
  "kernelspec": {
   "display_name": "Python 3",
   "language": "python",
   "name": "python3"
  },
  "language_info": {
   "codemirror_mode": {
    "name": "ipython",
    "version": 3
   },
   "file_extension": ".py",
   "mimetype": "text/x-python",
   "name": "python",
   "nbconvert_exporter": "python",
   "pygments_lexer": "ipython3",
   "version": "3.8.5"
  }
 },
 "nbformat": 4,
 "nbformat_minor": 1
}

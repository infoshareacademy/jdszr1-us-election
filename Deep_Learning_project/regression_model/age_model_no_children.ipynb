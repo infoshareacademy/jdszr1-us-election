{
 "cells": [
  {
   "cell_type": "code",
   "execution_count": 1,
   "metadata": {
    "id": "6YGBnWYfbgSi"
   },
   "outputs": [],
   "source": [
    "import numpy as np\n",
    "import pandas as pd\n",
    "import matplotlib.pyplot as plt\n",
    "import cv2\n",
    "from sklearn.model_selection import train_test_split\n",
    "from sklearn.preprocessing import OneHotEncoder\n",
    "import tensorflow as tf\n",
    "from tensorflow.keras import layers"
   ]
  },
  {
   "cell_type": "code",
   "execution_count": 34,
   "metadata": {
    "colab": {
     "base_uri": "https://localhost:8080/",
     "height": 206
    },
    "id": "2ZVAPx-MbgTQ",
    "outputId": "d7888d06-aa2e-4ab9-b4bb-1d6edd041c96"
   },
   "outputs": [
    {
     "data": {
      "text/html": [
       "<div>\n",
       "<style scoped>\n",
       "    .dataframe tbody tr th:only-of-type {\n",
       "        vertical-align: middle;\n",
       "    }\n",
       "\n",
       "    .dataframe tbody tr th {\n",
       "        vertical-align: top;\n",
       "    }\n",
       "\n",
       "    .dataframe thead th {\n",
       "        text-align: right;\n",
       "    }\n",
       "</style>\n",
       "<table border=\"1\" class=\"dataframe\">\n",
       "  <thead>\n",
       "    <tr style=\"text-align: right;\">\n",
       "      <th></th>\n",
       "      <th>age</th>\n",
       "      <th>ethnicity</th>\n",
       "      <th>gender</th>\n",
       "      <th>img_name</th>\n",
       "      <th>pixels</th>\n",
       "    </tr>\n",
       "  </thead>\n",
       "  <tbody>\n",
       "    <tr>\n",
       "      <th>0</th>\n",
       "      <td>1</td>\n",
       "      <td>2</td>\n",
       "      <td>0</td>\n",
       "      <td>20161219203650636.jpg.chip.jpg</td>\n",
       "      <td>129 128 128 126 127 130 133 135 139 142 145 14...</td>\n",
       "    </tr>\n",
       "    <tr>\n",
       "      <th>1</th>\n",
       "      <td>1</td>\n",
       "      <td>2</td>\n",
       "      <td>0</td>\n",
       "      <td>20161219222752047.jpg.chip.jpg</td>\n",
       "      <td>164 74 111 168 169 171 175 182 184 188 193 199...</td>\n",
       "    </tr>\n",
       "    <tr>\n",
       "      <th>2</th>\n",
       "      <td>1</td>\n",
       "      <td>2</td>\n",
       "      <td>0</td>\n",
       "      <td>20161219222832191.jpg.chip.jpg</td>\n",
       "      <td>67 70 71 70 69 67 70 79 90 103 116 132 145 155...</td>\n",
       "    </tr>\n",
       "    <tr>\n",
       "      <th>3</th>\n",
       "      <td>1</td>\n",
       "      <td>2</td>\n",
       "      <td>0</td>\n",
       "      <td>20161220144911423.jpg.chip.jpg</td>\n",
       "      <td>193 197 198 200 199 200 202 203 204 205 208 21...</td>\n",
       "    </tr>\n",
       "    <tr>\n",
       "      <th>4</th>\n",
       "      <td>1</td>\n",
       "      <td>2</td>\n",
       "      <td>0</td>\n",
       "      <td>20161220144914327.jpg.chip.jpg</td>\n",
       "      <td>202 205 209 210 209 209 210 211 212 214 218 21...</td>\n",
       "    </tr>\n",
       "  </tbody>\n",
       "</table>\n",
       "</div>"
      ],
      "text/plain": [
       "   age  ethnicity  gender                        img_name  \\\n",
       "0    1          2       0  20161219203650636.jpg.chip.jpg   \n",
       "1    1          2       0  20161219222752047.jpg.chip.jpg   \n",
       "2    1          2       0  20161219222832191.jpg.chip.jpg   \n",
       "3    1          2       0  20161220144911423.jpg.chip.jpg   \n",
       "4    1          2       0  20161220144914327.jpg.chip.jpg   \n",
       "\n",
       "                                              pixels  \n",
       "0  129 128 128 126 127 130 133 135 139 142 145 14...  \n",
       "1  164 74 111 168 169 171 175 182 184 188 193 199...  \n",
       "2  67 70 71 70 69 67 70 79 90 103 116 132 145 155...  \n",
       "3  193 197 198 200 199 200 202 203 204 205 208 21...  \n",
       "4  202 205 209 210 209 209 210 211 212 214 218 21...  "
      ]
     },
     "execution_count": 34,
     "metadata": {},
     "output_type": "execute_result"
    }
   ],
   "source": [
    "data = pd.read_csv(\"age_gender.csv\")\n",
    "data.head()"
   ]
  },
  {
   "cell_type": "code",
   "execution_count": 24,
   "metadata": {
    "colab": {
     "base_uri": "https://localhost:8080/"
    },
    "id": "cFIL06MFbgTh",
    "outputId": "1fc1f5e9-e05d-42dd-f342-9865b0a83363"
   },
   "outputs": [
    {
     "data": {
      "text/plain": [
       "0    12391\n",
       "1    11314\n",
       "Name: gender, dtype: int64"
      ]
     },
     "execution_count": 24,
     "metadata": {},
     "output_type": "execute_result"
    }
   ],
   "source": [
    "data[\"gender\"].value_counts()"
   ]
  },
  {
   "cell_type": "code",
   "execution_count": 25,
   "metadata": {
    "colab": {
     "base_uri": "https://localhost:8080/"
    },
    "id": "kigxxhQjbgTx",
    "outputId": "b2495321-0959-45b7-d56c-ca94da89bfa2"
   },
   "outputs": [
    {
     "data": {
      "text/plain": [
       "0    10078\n",
       "1     4526\n",
       "3     3975\n",
       "2     3434\n",
       "4     1692\n",
       "Name: ethnicity, dtype: int64"
      ]
     },
     "execution_count": 25,
     "metadata": {},
     "output_type": "execute_result"
    }
   ],
   "source": [
    "data[\"ethnicity\"].value_counts()"
   ]
  },
  {
   "cell_type": "code",
   "execution_count": 26,
   "metadata": {
    "colab": {
     "base_uri": "https://localhost:8080/"
    },
    "id": "p07BAXYRbgT-",
    "outputId": "6e0efe51-3b62-4eba-db68-ca7fa19be4fd"
   },
   "outputs": [
    {
     "data": {
      "text/plain": [
       "<bound method Series.sort_values of 0         1\n",
       "1         1\n",
       "2         1\n",
       "3         1\n",
       "4         1\n",
       "         ..\n",
       "23700    99\n",
       "23701    99\n",
       "23702    99\n",
       "23703    99\n",
       "23704    99\n",
       "Name: age, Length: 23705, dtype: int64>"
      ]
     },
     "execution_count": 26,
     "metadata": {},
     "output_type": "execute_result"
    }
   ],
   "source": [
    "data[\"age\"].sort_values"
   ]
  },
  {
   "cell_type": "code",
   "execution_count": 27,
   "metadata": {
    "colab": {
     "base_uri": "https://localhost:8080/",
     "height": 1000
    },
    "id": "azlaXjCwbgUO",
    "outputId": "75d12ebb-53a2-45f5-f647-8d05376a13bb"
   },
   "outputs": [
    {
     "data": {
      "text/plain": [
       "(array([1.605e+03, 2.890e+02, 2.730e+02, 1.960e+02, 1.310e+02, 1.390e+02,\n",
       "        4.290e+02, 1.560e+02, 6.500e+01, 1.300e+02, 8.100e+01, 1.570e+02,\n",
       "        4.240e+02, 1.580e+02, 2.620e+02, 9.800e+01, 2.840e+02, 3.460e+02,\n",
       "        8.210e+02, 8.590e+02, 7.340e+02, 2.197e+03, 6.150e+02, 9.180e+02,\n",
       "        1.294e+03, 3.500e+02, 6.640e+02, 1.430e+02, 4.090e+02, 8.800e+02,\n",
       "        7.760e+02, 3.250e+02, 2.650e+02, 5.260e+02, 1.320e+02, 2.660e+02,\n",
       "        1.570e+02, 5.400e+02, 1.530e+02, 1.700e+02, 1.530e+02, 1.480e+02,\n",
       "        3.810e+02, 3.700e+02, 2.410e+02, 3.530e+02, 2.680e+02, 2.360e+02,\n",
       "        9.700e+01, 3.530e+02, 2.930e+02, 1.590e+02, 1.250e+02, 1.030e+02,\n",
       "        5.000e+01, 3.360e+02, 9.400e+01, 1.000e+02, 5.600e+01, 1.470e+02,\n",
       "        3.300e+01, 1.610e+02, 3.200e+01, 1.480e+02, 5.800e+01, 2.800e+01,\n",
       "        6.900e+01, 2.300e+01, 1.550e+02, 4.000e+01, 1.800e+01, 2.400e+01,\n",
       "        1.550e+02, 3.500e+01, 4.400e+01, 3.300e+01, 8.200e+01, 2.000e+00,\n",
       "        1.300e+01, 5.000e+00, 9.000e+00, 1.700e+01, 0.000e+00, 0.000e+00,\n",
       "        9.000e+00, 1.100e+01, 2.000e+00, 1.000e+00, 0.000e+00, 5.000e+00,\n",
       "        0.000e+00, 0.000e+00, 0.000e+00, 5.000e+00, 1.000e+00, 0.000e+00,\n",
       "        0.000e+00, 0.000e+00, 7.000e+00]),\n",
       " array([  1.        ,   2.16161616,   3.32323232,   4.48484848,\n",
       "          5.64646465,   6.80808081,   7.96969697,   9.13131313,\n",
       "         10.29292929,  11.45454545,  12.61616162,  13.77777778,\n",
       "         14.93939394,  16.1010101 ,  17.26262626,  18.42424242,\n",
       "         19.58585859,  20.74747475,  21.90909091,  23.07070707,\n",
       "         24.23232323,  25.39393939,  26.55555556,  27.71717172,\n",
       "         28.87878788,  30.04040404,  31.2020202 ,  32.36363636,\n",
       "         33.52525253,  34.68686869,  35.84848485,  37.01010101,\n",
       "         38.17171717,  39.33333333,  40.49494949,  41.65656566,\n",
       "         42.81818182,  43.97979798,  45.14141414,  46.3030303 ,\n",
       "         47.46464646,  48.62626263,  49.78787879,  50.94949495,\n",
       "         52.11111111,  53.27272727,  54.43434343,  55.5959596 ,\n",
       "         56.75757576,  57.91919192,  59.08080808,  60.24242424,\n",
       "         61.4040404 ,  62.56565657,  63.72727273,  64.88888889,\n",
       "         66.05050505,  67.21212121,  68.37373737,  69.53535354,\n",
       "         70.6969697 ,  71.85858586,  73.02020202,  74.18181818,\n",
       "         75.34343434,  76.50505051,  77.66666667,  78.82828283,\n",
       "         79.98989899,  81.15151515,  82.31313131,  83.47474747,\n",
       "         84.63636364,  85.7979798 ,  86.95959596,  88.12121212,\n",
       "         89.28282828,  90.44444444,  91.60606061,  92.76767677,\n",
       "         93.92929293,  95.09090909,  96.25252525,  97.41414141,\n",
       "         98.57575758,  99.73737374, 100.8989899 , 102.06060606,\n",
       "        103.22222222, 104.38383838, 105.54545455, 106.70707071,\n",
       "        107.86868687, 109.03030303, 110.19191919, 111.35353535,\n",
       "        112.51515152, 113.67676768, 114.83838384, 116.        ]),\n",
       " <BarContainer object of 99 artists>)"
      ]
     },
     "execution_count": 27,
     "metadata": {},
     "output_type": "execute_result"
    },
    {
     "data": {
      "image/png": "[encoded data removed]",
      "text/plain": [
       "<Figure size 432x288 with 1 Axes>"
      ]
     },
     "metadata": {
      "needs_background": "light"
     },
     "output_type": "display_data"
    }
   ],
   "source": [
    "plt.hist(np.array(data[\"age\"]), bins=99)"
   ]
  },
  {
   "cell_type": "code",
   "execution_count": 35,
   "metadata": {
    "id": "61E4s62UbgUZ"
   },
   "outputs": [],
   "source": [
    "data = data[data['age'] <= 90]\n",
    "#data.head()"
   ]
  },
  {
   "cell_type": "code",
   "execution_count": 36,
   "metadata": {},
   "outputs": [],
   "source": [
    "data = data[data['age'] >= 15]"
   ]
  },
  {
   "cell_type": "code",
   "execution_count": 37,
   "metadata": {},
   "outputs": [
    {
     "data": {
      "text/plain": [
       "(array([ 424.,  158.,  262.,   98.,  284.,  346.,  395.,  426.,  859.,\n",
       "         734., 2197.,  615.,  918.,  570., 1074.,  664.,  143.,  409.,\n",
       "         880.,  483.,  293.,  325.,  265.,  526.,  132.,  266.,  157.,\n",
       "         100.,  593.,  170.,  153.,  148.,  381.,  138.,  232.,  241.,\n",
       "         353.,  268.,  236.,   97.,  271.,   82.,  452.,  125.,  103.,\n",
       "          50.,  259.,   77.,   94.,  100.,   56.,  147.,   33.,   98.,\n",
       "          63.,   32.,  206.,   28.,   69.,   23.,  133.,   22.,   40.,\n",
       "          18.,   24.,  155.,   35.,   10.,   34.,  115.]),\n",
       " array([15.        , 16.07142857, 17.14285714, 18.21428571, 19.28571429,\n",
       "        20.35714286, 21.42857143, 22.5       , 23.57142857, 24.64285714,\n",
       "        25.71428571, 26.78571429, 27.85714286, 28.92857143, 30.        ,\n",
       "        31.07142857, 32.14285714, 33.21428571, 34.28571429, 35.35714286,\n",
       "        36.42857143, 37.5       , 38.57142857, 39.64285714, 40.71428571,\n",
       "        41.78571429, 42.85714286, 43.92857143, 45.        , 46.07142857,\n",
       "        47.14285714, 48.21428571, 49.28571429, 50.35714286, 51.42857143,\n",
       "        52.5       , 53.57142857, 54.64285714, 55.71428571, 56.78571429,\n",
       "        57.85714286, 58.92857143, 60.        , 61.07142857, 62.14285714,\n",
       "        63.21428571, 64.28571429, 65.35714286, 66.42857143, 67.5       ,\n",
       "        68.57142857, 69.64285714, 70.71428571, 71.78571429, 72.85714286,\n",
       "        73.92857143, 75.        , 76.07142857, 77.14285714, 78.21428571,\n",
       "        79.28571429, 80.35714286, 81.42857143, 82.5       , 83.57142857,\n",
       "        84.64285714, 85.71428571, 86.78571429, 87.85714286, 88.92857143,\n",
       "        90.        ]),\n",
       " <BarContainer object of 70 artists>)"
      ]
     },
     "execution_count": 37,
     "metadata": {},
     "output_type": "execute_result"
    },
    {
     "data": {
      "image/png": "[encoded data removed]",
      "text/plain": [
       "<Figure size 432x288 with 1 Axes>"
      ]
     },
     "metadata": {
      "needs_background": "light"
     },
     "output_type": "display_data"
    }
   ],
   "source": [
    "plt.hist(np.array(data[\"age\"]), bins=70)"
   ]
  },
  {
   "cell_type": "code",
   "execution_count": 38,
   "metadata": {
    "id": "srSHb7pYbgUn"
   },
   "outputs": [],
   "source": [
    "x = data[\"pixels\"]"
   ]
  },
  {
   "cell_type": "code",
   "execution_count": 39,
   "metadata": {
    "id": "kYv-mjKpbgUz"
   },
   "outputs": [],
   "source": [
    "y_age = np.array(data[\"age\"])\n",
    "y_gender = data[\"gender\"]"
   ]
  },
  {
   "cell_type": "code",
   "execution_count": 40,
   "metadata": {
    "colab": {
     "base_uri": "https://localhost:8080/"
    },
    "id": "bNuQHvb4bgU8",
    "outputId": "6662731a-d6c5-4952-9f8f-e30bd211dace"
   },
   "outputs": [
    {
     "data": {
      "text/plain": [
       "array([15, 15, 15, ..., 90, 90, 90])"
      ]
     },
     "execution_count": 40,
     "metadata": {},
     "output_type": "execute_result"
    }
   ],
   "source": [
    "y_age"
   ]
  },
  {
   "cell_type": "code",
   "execution_count": 41,
   "metadata": {
    "colab": {
     "base_uri": "https://localhost:8080/"
    },
    "id": "sML5Wav8bgVG",
    "outputId": "b4845c49-ab08-4a6d-d918-9737ee42263b"
   },
   "outputs": [
    {
     "ename": "KeyError",
     "evalue": "0",
     "output_type": "error",
     "traceback": [
      "\u001b[0;31m---------------------------------------------------------------------------\u001b[0m",
      "\u001b[0;31mKeyError\u001b[0m                                  Traceback (most recent call last)",
      "\u001b[0;32m~/anaconda3/envs/tf/lib/python3.8/site-packages/pandas/core/indexes/base.py\u001b[0m in \u001b[0;36mget_loc\u001b[0;34m(self, key, method, tolerance)\u001b[0m\n\u001b[1;32m   2894\u001b[0m             \u001b[0;32mtry\u001b[0m\u001b[0;34m:\u001b[0m\u001b[0;34m\u001b[0m\u001b[0;34m\u001b[0m\u001b[0m\n\u001b[0;32m-> 2895\u001b[0;31m                 \u001b[0;32mreturn\u001b[0m \u001b[0mself\u001b[0m\u001b[0;34m.\u001b[0m\u001b[0m_engine\u001b[0m\u001b[0;34m.\u001b[0m\u001b[0mget_loc\u001b[0m\u001b[0;34m(\u001b[0m\u001b[0mcasted_key\u001b[0m\u001b[0;34m)\u001b[0m\u001b[0;34m\u001b[0m\u001b[0;34m\u001b[0m\u001b[0m\n\u001b[0m\u001b[1;32m   2896\u001b[0m             \u001b[0;32mexcept\u001b[0m \u001b[0mKeyError\u001b[0m \u001b[0;32mas\u001b[0m \u001b[0merr\u001b[0m\u001b[0;34m:\u001b[0m\u001b[0;34m\u001b[0m\u001b[0;34m\u001b[0m\u001b[0m\n",
      "\u001b[0;32mpandas/_libs/index.pyx\u001b[0m in \u001b[0;36mpandas._libs.index.IndexEngine.get_loc\u001b[0;34m()\u001b[0m\n",
      "\u001b[0;32mpandas/_libs/index.pyx\u001b[0m in \u001b[0;36mpandas._libs.index.IndexEngine.get_loc\u001b[0;34m()\u001b[0m\n",
      "\u001b[0;32mpandas/_libs/hashtable_class_helper.pxi\u001b[0m in \u001b[0;36mpandas._libs.hashtable.Int64HashTable.get_item\u001b[0;34m()\u001b[0m\n",
      "\u001b[0;32mpandas/_libs/hashtable_class_helper.pxi\u001b[0m in \u001b[0;36mpandas._libs.hashtable.Int64HashTable.get_item\u001b[0;34m()\u001b[0m\n",
      "\u001b[0;31mKeyError\u001b[0m: 0",
      "\nThe above exception was the direct cause of the following exception:\n",
      "\u001b[0;31mKeyError\u001b[0m                                  Traceback (most recent call last)",
      "\u001b[0;32m<ipython-input-41-d982304714d9>\u001b[0m in \u001b[0;36m<module>\u001b[0;34m\u001b[0m\n\u001b[0;32m----> 1\u001b[0;31m \u001b[0mlen\u001b[0m\u001b[0;34m(\u001b[0m\u001b[0mx\u001b[0m\u001b[0;34m[\u001b[0m\u001b[0;36m0\u001b[0m\u001b[0;34m]\u001b[0m\u001b[0;34m.\u001b[0m\u001b[0msplit\u001b[0m\u001b[0;34m(\u001b[0m\u001b[0;34m' '\u001b[0m\u001b[0;34m)\u001b[0m\u001b[0;34m)\u001b[0m\u001b[0;34m\u001b[0m\u001b[0;34m\u001b[0m\u001b[0m\n\u001b[0m",
      "\u001b[0;32m~/anaconda3/envs/tf/lib/python3.8/site-packages/pandas/core/series.py\u001b[0m in \u001b[0;36m__getitem__\u001b[0;34m(self, key)\u001b[0m\n\u001b[1;32m    880\u001b[0m \u001b[0;34m\u001b[0m\u001b[0m\n\u001b[1;32m    881\u001b[0m         \u001b[0;32melif\u001b[0m \u001b[0mkey_is_scalar\u001b[0m\u001b[0;34m:\u001b[0m\u001b[0;34m\u001b[0m\u001b[0;34m\u001b[0m\u001b[0m\n\u001b[0;32m--> 882\u001b[0;31m             \u001b[0;32mreturn\u001b[0m \u001b[0mself\u001b[0m\u001b[0;34m.\u001b[0m\u001b[0m_get_value\u001b[0m\u001b[0;34m(\u001b[0m\u001b[0mkey\u001b[0m\u001b[0;34m)\u001b[0m\u001b[0;34m\u001b[0m\u001b[0;34m\u001b[0m\u001b[0m\n\u001b[0m\u001b[1;32m    883\u001b[0m \u001b[0;34m\u001b[0m\u001b[0m\n\u001b[1;32m    884\u001b[0m         \u001b[0;32mif\u001b[0m \u001b[0mis_hashable\u001b[0m\u001b[0;34m(\u001b[0m\u001b[0mkey\u001b[0m\u001b[0;34m)\u001b[0m\u001b[0;34m:\u001b[0m\u001b[0;34m\u001b[0m\u001b[0;34m\u001b[0m\u001b[0m\n",
      "\u001b[0;32m~/anaconda3/envs/tf/lib/python3.8/site-packages/pandas/core/series.py\u001b[0m in \u001b[0;36m_get_value\u001b[0;34m(self, label, takeable)\u001b[0m\n\u001b[1;32m    987\u001b[0m \u001b[0;34m\u001b[0m\u001b[0m\n\u001b[1;32m    988\u001b[0m         \u001b[0;31m# Similar to Index.get_value, but we do not fall back to positional\u001b[0m\u001b[0;34m\u001b[0m\u001b[0;34m\u001b[0m\u001b[0;34m\u001b[0m\u001b[0m\n\u001b[0;32m--> 989\u001b[0;31m         \u001b[0mloc\u001b[0m \u001b[0;34m=\u001b[0m \u001b[0mself\u001b[0m\u001b[0;34m.\u001b[0m\u001b[0mindex\u001b[0m\u001b[0;34m.\u001b[0m\u001b[0mget_loc\u001b[0m\u001b[0;34m(\u001b[0m\u001b[0mlabel\u001b[0m\u001b[0;34m)\u001b[0m\u001b[0;34m\u001b[0m\u001b[0;34m\u001b[0m\u001b[0m\n\u001b[0m\u001b[1;32m    990\u001b[0m         \u001b[0;32mreturn\u001b[0m \u001b[0mself\u001b[0m\u001b[0;34m.\u001b[0m\u001b[0mindex\u001b[0m\u001b[0;34m.\u001b[0m\u001b[0m_get_values_for_loc\u001b[0m\u001b[0;34m(\u001b[0m\u001b[0mself\u001b[0m\u001b[0;34m,\u001b[0m \u001b[0mloc\u001b[0m\u001b[0;34m,\u001b[0m \u001b[0mlabel\u001b[0m\u001b[0;34m)\u001b[0m\u001b[0;34m\u001b[0m\u001b[0;34m\u001b[0m\u001b[0m\n\u001b[1;32m    991\u001b[0m \u001b[0;34m\u001b[0m\u001b[0m\n",
      "\u001b[0;32m~/anaconda3/envs/tf/lib/python3.8/site-packages/pandas/core/indexes/base.py\u001b[0m in \u001b[0;36mget_loc\u001b[0;34m(self, key, method, tolerance)\u001b[0m\n\u001b[1;32m   2895\u001b[0m                 \u001b[0;32mreturn\u001b[0m \u001b[0mself\u001b[0m\u001b[0;34m.\u001b[0m\u001b[0m_engine\u001b[0m\u001b[0;34m.\u001b[0m\u001b[0mget_loc\u001b[0m\u001b[0;34m(\u001b[0m\u001b[0mcasted_key\u001b[0m\u001b[0;34m)\u001b[0m\u001b[0;34m\u001b[0m\u001b[0;34m\u001b[0m\u001b[0m\n\u001b[1;32m   2896\u001b[0m             \u001b[0;32mexcept\u001b[0m \u001b[0mKeyError\u001b[0m \u001b[0;32mas\u001b[0m \u001b[0merr\u001b[0m\u001b[0;34m:\u001b[0m\u001b[0;34m\u001b[0m\u001b[0;34m\u001b[0m\u001b[0m\n\u001b[0;32m-> 2897\u001b[0;31m                 \u001b[0;32mraise\u001b[0m \u001b[0mKeyError\u001b[0m\u001b[0;34m(\u001b[0m\u001b[0mkey\u001b[0m\u001b[0;34m)\u001b[0m \u001b[0;32mfrom\u001b[0m \u001b[0merr\u001b[0m\u001b[0;34m\u001b[0m\u001b[0;34m\u001b[0m\u001b[0m\n\u001b[0m\u001b[1;32m   2898\u001b[0m \u001b[0;34m\u001b[0m\u001b[0m\n\u001b[1;32m   2899\u001b[0m         \u001b[0;32mif\u001b[0m \u001b[0mtolerance\u001b[0m \u001b[0;32mis\u001b[0m \u001b[0;32mnot\u001b[0m \u001b[0;32mNone\u001b[0m\u001b[0;34m:\u001b[0m\u001b[0;34m\u001b[0m\u001b[0;34m\u001b[0m\u001b[0m\n",
      "\u001b[0;31mKeyError\u001b[0m: 0"
     ]
    }
   ],
   "source": [
    "len(x[0].split(' '))"
   ]
  },
  {
   "cell_type": "code",
   "execution_count": 19,
   "metadata": {
    "colab": {
     "base_uri": "https://localhost:8080/"
    },
    "id": "IBxR9Kz0bgVP",
    "outputId": "1a1ea751-4796-4ca9-f5b1-d65a0002b51f"
   },
   "outputs": [
    {
     "ename": "KeyError",
     "evalue": "0",
     "output_type": "error",
     "traceback": [
      "\u001b[0;31m---------------------------------------------------------------------------\u001b[0m",
      "\u001b[0;31mKeyError\u001b[0m                                  Traceback (most recent call last)",
      "\u001b[0;32m~/anaconda3/envs/tf/lib/python3.8/site-packages/pandas/core/indexes/base.py\u001b[0m in \u001b[0;36mget_loc\u001b[0;34m(self, key, method, tolerance)\u001b[0m\n\u001b[1;32m   2894\u001b[0m             \u001b[0;32mtry\u001b[0m\u001b[0;34m:\u001b[0m\u001b[0;34m\u001b[0m\u001b[0;34m\u001b[0m\u001b[0m\n\u001b[0;32m-> 2895\u001b[0;31m                 \u001b[0;32mreturn\u001b[0m \u001b[0mself\u001b[0m\u001b[0;34m.\u001b[0m\u001b[0m_engine\u001b[0m\u001b[0;34m.\u001b[0m\u001b[0mget_loc\u001b[0m\u001b[0;34m(\u001b[0m\u001b[0mcasted_key\u001b[0m\u001b[0;34m)\u001b[0m\u001b[0;34m\u001b[0m\u001b[0;34m\u001b[0m\u001b[0m\n\u001b[0m\u001b[1;32m   2896\u001b[0m             \u001b[0;32mexcept\u001b[0m \u001b[0mKeyError\u001b[0m \u001b[0;32mas\u001b[0m \u001b[0merr\u001b[0m\u001b[0;34m:\u001b[0m\u001b[0;34m\u001b[0m\u001b[0;34m\u001b[0m\u001b[0m\n",
      "\u001b[0;32mpandas/_libs/index.pyx\u001b[0m in \u001b[0;36mpandas._libs.index.IndexEngine.get_loc\u001b[0;34m()\u001b[0m\n",
      "\u001b[0;32mpandas/_libs/index.pyx\u001b[0m in \u001b[0;36mpandas._libs.index.IndexEngine.get_loc\u001b[0;34m()\u001b[0m\n",
      "\u001b[0;32mpandas/_libs/hashtable_class_helper.pxi\u001b[0m in \u001b[0;36mpandas._libs.hashtable.Int64HashTable.get_item\u001b[0;34m()\u001b[0m\n",
      "\u001b[0;32mpandas/_libs/hashtable_class_helper.pxi\u001b[0m in \u001b[0;36mpandas._libs.hashtable.Int64HashTable.get_item\u001b[0;34m()\u001b[0m\n",
      "\u001b[0;31mKeyError\u001b[0m: 0",
      "\nThe above exception was the direct cause of the following exception:\n",
      "\u001b[0;31mKeyError\u001b[0m                                  Traceback (most recent call last)",
      "\u001b[0;32m<ipython-input-19-739f90f06f30>\u001b[0m in \u001b[0;36m<module>\u001b[0;34m\u001b[0m\n\u001b[0;32m----> 1\u001b[0;31m \u001b[0mnp\u001b[0m\u001b[0;34m.\u001b[0m\u001b[0msqrt\u001b[0m\u001b[0;34m(\u001b[0m\u001b[0mlen\u001b[0m\u001b[0;34m(\u001b[0m\u001b[0mx\u001b[0m\u001b[0;34m[\u001b[0m\u001b[0;36m0\u001b[0m\u001b[0;34m]\u001b[0m\u001b[0;34m.\u001b[0m\u001b[0msplit\u001b[0m\u001b[0;34m(\u001b[0m\u001b[0;34m' '\u001b[0m\u001b[0;34m)\u001b[0m\u001b[0;34m)\u001b[0m\u001b[0;34m)\u001b[0m\u001b[0;34m\u001b[0m\u001b[0;34m\u001b[0m\u001b[0m\n\u001b[0m",
      "\u001b[0;32m~/anaconda3/envs/tf/lib/python3.8/site-packages/pandas/core/series.py\u001b[0m in \u001b[0;36m__getitem__\u001b[0;34m(self, key)\u001b[0m\n\u001b[1;32m    880\u001b[0m \u001b[0;34m\u001b[0m\u001b[0m\n\u001b[1;32m    881\u001b[0m         \u001b[0;32melif\u001b[0m \u001b[0mkey_is_scalar\u001b[0m\u001b[0;34m:\u001b[0m\u001b[0;34m\u001b[0m\u001b[0;34m\u001b[0m\u001b[0m\n\u001b[0;32m--> 882\u001b[0;31m             \u001b[0;32mreturn\u001b[0m \u001b[0mself\u001b[0m\u001b[0;34m.\u001b[0m\u001b[0m_get_value\u001b[0m\u001b[0;34m(\u001b[0m\u001b[0mkey\u001b[0m\u001b[0;34m)\u001b[0m\u001b[0;34m\u001b[0m\u001b[0;34m\u001b[0m\u001b[0m\n\u001b[0m\u001b[1;32m    883\u001b[0m \u001b[0;34m\u001b[0m\u001b[0m\n\u001b[1;32m    884\u001b[0m         \u001b[0;32mif\u001b[0m \u001b[0mis_hashable\u001b[0m\u001b[0;34m(\u001b[0m\u001b[0mkey\u001b[0m\u001b[0;34m)\u001b[0m\u001b[0;34m:\u001b[0m\u001b[0;34m\u001b[0m\u001b[0;34m\u001b[0m\u001b[0m\n",
      "\u001b[0;32m~/anaconda3/envs/tf/lib/python3.8/site-packages/pandas/core/series.py\u001b[0m in \u001b[0;36m_get_value\u001b[0;34m(self, label, takeable)\u001b[0m\n\u001b[1;32m    987\u001b[0m \u001b[0;34m\u001b[0m\u001b[0m\n\u001b[1;32m    988\u001b[0m         \u001b[0;31m# Similar to Index.get_value, but we do not fall back to positional\u001b[0m\u001b[0;34m\u001b[0m\u001b[0;34m\u001b[0m\u001b[0;34m\u001b[0m\u001b[0m\n\u001b[0;32m--> 989\u001b[0;31m         \u001b[0mloc\u001b[0m \u001b[0;34m=\u001b[0m \u001b[0mself\u001b[0m\u001b[0;34m.\u001b[0m\u001b[0mindex\u001b[0m\u001b[0;34m.\u001b[0m\u001b[0mget_loc\u001b[0m\u001b[0;34m(\u001b[0m\u001b[0mlabel\u001b[0m\u001b[0;34m)\u001b[0m\u001b[0;34m\u001b[0m\u001b[0;34m\u001b[0m\u001b[0m\n\u001b[0m\u001b[1;32m    990\u001b[0m         \u001b[0;32mreturn\u001b[0m \u001b[0mself\u001b[0m\u001b[0;34m.\u001b[0m\u001b[0mindex\u001b[0m\u001b[0;34m.\u001b[0m\u001b[0m_get_values_for_loc\u001b[0m\u001b[0;34m(\u001b[0m\u001b[0mself\u001b[0m\u001b[0;34m,\u001b[0m \u001b[0mloc\u001b[0m\u001b[0;34m,\u001b[0m \u001b[0mlabel\u001b[0m\u001b[0;34m)\u001b[0m\u001b[0;34m\u001b[0m\u001b[0;34m\u001b[0m\u001b[0m\n\u001b[1;32m    991\u001b[0m \u001b[0;34m\u001b[0m\u001b[0m\n",
      "\u001b[0;32m~/anaconda3/envs/tf/lib/python3.8/site-packages/pandas/core/indexes/base.py\u001b[0m in \u001b[0;36mget_loc\u001b[0;34m(self, key, method, tolerance)\u001b[0m\n\u001b[1;32m   2895\u001b[0m                 \u001b[0;32mreturn\u001b[0m \u001b[0mself\u001b[0m\u001b[0;34m.\u001b[0m\u001b[0m_engine\u001b[0m\u001b[0;34m.\u001b[0m\u001b[0mget_loc\u001b[0m\u001b[0;34m(\u001b[0m\u001b[0mcasted_key\u001b[0m\u001b[0;34m)\u001b[0m\u001b[0;34m\u001b[0m\u001b[0;34m\u001b[0m\u001b[0m\n\u001b[1;32m   2896\u001b[0m             \u001b[0;32mexcept\u001b[0m \u001b[0mKeyError\u001b[0m \u001b[0;32mas\u001b[0m \u001b[0merr\u001b[0m\u001b[0;34m:\u001b[0m\u001b[0;34m\u001b[0m\u001b[0;34m\u001b[0m\u001b[0m\n\u001b[0;32m-> 2897\u001b[0;31m                 \u001b[0;32mraise\u001b[0m \u001b[0mKeyError\u001b[0m\u001b[0;34m(\u001b[0m\u001b[0mkey\u001b[0m\u001b[0;34m)\u001b[0m \u001b[0;32mfrom\u001b[0m \u001b[0merr\u001b[0m\u001b[0;34m\u001b[0m\u001b[0;34m\u001b[0m\u001b[0m\n\u001b[0m\u001b[1;32m   2898\u001b[0m \u001b[0;34m\u001b[0m\u001b[0m\n\u001b[1;32m   2899\u001b[0m         \u001b[0;32mif\u001b[0m \u001b[0mtolerance\u001b[0m \u001b[0;32mis\u001b[0m \u001b[0;32mnot\u001b[0m \u001b[0;32mNone\u001b[0m\u001b[0;34m:\u001b[0m\u001b[0;34m\u001b[0m\u001b[0;34m\u001b[0m\u001b[0m\n",
      "\u001b[0;31mKeyError\u001b[0m: 0"
     ]
    }
   ],
   "source": [
    "np.sqrt(len(x[0].split(' ')))"
   ]
  },
  {
   "cell_type": "code",
   "execution_count": 13,
   "metadata": {
    "id": "Ms6EI6D4bgVX"
   },
   "outputs": [],
   "source": [
    "num_pixels = 2304\n",
    "img_height = 48\n",
    "img_width = 48"
   ]
  },
  {
   "cell_type": "code",
   "execution_count": 42,
   "metadata": {
    "id": "7aqgw1QPbgVe"
   },
   "outputs": [],
   "source": [
    "x = x.apply(lambda x: x.split(' '))\n",
    "x = x.apply(lambda x: np.array(list(map(lambda z: np.int(z), x))))\n",
    "x = np.array(x)\n",
    "x = np.stack(np.array(x), axis=0)\n",
    "x = np.reshape(x, (-1, 48, 48))"
   ]
  },
  {
   "cell_type": "code",
   "execution_count": 43,
   "metadata": {
    "colab": {
     "base_uri": "https://localhost:8080/",
     "height": 267
    },
    "id": "R2CxNor4bgVl",
    "outputId": "fc4e5512-b904-4955-be53-a31351e26e54"
   },
   "outputs": [
    {
     "data": {
      "image/png": "[encoded data removed]",
      "text/plain": [
       "<Figure size 432x288 with 1 Axes>"
      ]
     },
     "metadata": {
      "needs_background": "light"
     },
     "output_type": "display_data"
    }
   ],
   "source": [
    "x_num = 19903\n",
    "plt.imshow(x[x_num], cmap=\"gray\")\n",
    "plt.show()"
   ]
  },
  {
   "cell_type": "code",
   "execution_count": 44,
   "metadata": {
    "id": "t3juMwBsbgVw"
   },
   "outputs": [],
   "source": [
    "x_train, x_test, y_train, y_test = train_test_split(x, y_age, test_size=0.2, random_state=1)"
   ]
  },
  {
   "cell_type": "code",
   "execution_count": 45,
   "metadata": {
    "id": "myHXIXzNbgV4"
   },
   "outputs": [],
   "source": [
    "y_train = y_train.astype(np.float32)\n",
    "y_test = y_test.astype(np.float32)"
   ]
  },
  {
   "cell_type": "code",
   "execution_count": 46,
   "metadata": {
    "colab": {
     "base_uri": "https://localhost:8080/"
    },
    "id": "cFSlbxxabgV-",
    "outputId": "4441e34b-ff80-444a-e845-b5bc7a8bd8db"
   },
   "outputs": [
    {
     "name": "stdout",
     "output_type": "stream",
     "text": [
      "y_test.shape:  (3994,)\n",
      "y_train.shape:  (15973,)\n"
     ]
    }
   ],
   "source": [
    "#y_test = OneHotEncoder().fit_transform(y_test.reshape(-1,1)).toarray()\n",
    "y_test = y_test.astype(np.float32)\n",
    "\n",
    "#y_train = OneHotEncoder().fit_transform(y_train.reshape(-1,1)).toarray()\n",
    "y_train = y_train.astype(np.float32)\n",
    "\n",
    "print(\"y_test.shape: \", y_test.shape)\n",
    "print(\"y_train.shape: \", y_train.shape)"
   ]
  },
  {
   "cell_type": "code",
   "execution_count": 47,
   "metadata": {
    "id": "QOYqbMkBbgWI"
   },
   "outputs": [],
   "source": [
    "x_train, x_test = x_train / 255.0, x_test / 255.0"
   ]
  },
  {
   "cell_type": "code",
   "execution_count": 48,
   "metadata": {
    "id": "u6l5PNAjbgWR"
   },
   "outputs": [],
   "source": [
    "x_train = x_train.astype(np.float32)\n",
    "x_test = x_test.astype(np.float32)"
   ]
  },
  {
   "cell_type": "code",
   "execution_count": 49,
   "metadata": {
    "colab": {
     "base_uri": "https://localhost:8080/"
    },
    "id": "MOnhSKbRbgWX",
    "outputId": "444bced8-a9cc-49ed-f63c-7d31d23c65ec"
   },
   "outputs": [
    {
     "name": "stdout",
     "output_type": "stream",
     "text": [
      "x_train shape:  (15973, 48, 48)\n",
      "x_test shape:  (3994, 48, 48)\n"
     ]
    }
   ],
   "source": [
    "print(\"x_train shape: \", x_train.shape)\n",
    "print(\"x_test shape: \", x_test.shape)"
   ]
  },
  {
   "cell_type": "code",
   "execution_count": 50,
   "metadata": {
    "colab": {
     "base_uri": "https://localhost:8080/",
     "height": 310
    },
    "id": "FEuaMaN-bgWj",
    "outputId": "cd561244-efb2-4b7c-a750-65dfc6eb9ea0"
   },
   "outputs": [
    {
     "name": "stdout",
     "output_type": "stream",
     "text": [
      "Label:  0\n"
     ]
    },
    {
     "data": {
      "text/plain": [
       "<Figure size 432x288 with 0 Axes>"
      ]
     },
     "metadata": {},
     "output_type": "display_data"
    },
    {
     "data": {
      "image/png": "[encoded data removed]",
      "text/plain": [
       "<Figure size 288x288 with 1 Axes>"
      ]
     },
     "metadata": {
      "needs_background": "light"
     },
     "output_type": "display_data"
    }
   ],
   "source": [
    "n = 2376\n",
    "plt.gray()\n",
    "plt.matshow(x_train[n])\n",
    "print(\"Label: \", np.argmax(y_train[n]))"
   ]
  },
  {
   "cell_type": "code",
   "execution_count": 51,
   "metadata": {
    "colab": {
     "base_uri": "https://localhost:8080/"
    },
    "id": "VwHJO5ZSbgWu",
    "outputId": "0d4ede55-c447-4c99-ab90-55c4e2290a2c"
   },
   "outputs": [
    {
     "data": {
      "text/plain": [
       "(15973, 48, 48)"
      ]
     },
     "execution_count": 51,
     "metadata": {},
     "output_type": "execute_result"
    }
   ],
   "source": [
    "x_train.shape"
   ]
  },
  {
   "cell_type": "code",
   "execution_count": 52,
   "metadata": {
    "id": "888BAicUbgW6"
   },
   "outputs": [],
   "source": [
    "x_train = x_train.reshape(-1,48,48,1)"
   ]
  },
  {
   "cell_type": "code",
   "execution_count": 53,
   "metadata": {
    "colab": {
     "base_uri": "https://localhost:8080/"
    },
    "id": "WsYd-3WMbgXQ",
    "outputId": "d1c0a6bf-c248-40d9-dc23-f87c3a463eba"
   },
   "outputs": [
    {
     "name": "stdout",
     "output_type": "stream",
     "text": [
      "Model: \"sequential\"\n",
      "_________________________________________________________________\n",
      "Layer (type)                 Output Shape              Param #   \n",
      "=================================================================\n",
      "conv2d (Conv2D)              (None, 48, 48, 16)        160       \n",
      "_________________________________________________________________\n",
      "max_pooling2d (MaxPooling2D) (None, 24, 24, 16)        0         \n",
      "_________________________________________________________________\n",
      "conv2d_1 (Conv2D)            (None, 24, 24, 32)        4640      \n",
      "_________________________________________________________________\n",
      "max_pooling2d_1 (MaxPooling2 (None, 12, 12, 32)        0         \n",
      "_________________________________________________________________\n",
      "flatten (Flatten)            (None, 4608)              0         \n",
      "_________________________________________________________________\n",
      "dense (Dense)                (None, 128)               589952    \n",
      "_________________________________________________________________\n",
      "dropout (Dropout)            (None, 128)               0         \n",
      "_________________________________________________________________\n",
      "dense_1 (Dense)              (None, 1)                 129       \n",
      "=================================================================\n",
      "Total params: 594,881\n",
      "Trainable params: 594,881\n",
      "Non-trainable params: 0\n",
      "_________________________________________________________________\n"
     ]
    }
   ],
   "source": [
    "model_age = tf.keras.Sequential()\n",
    "model_age.add(layers.InputLayer(input_shape=x_train.shape[1:]))\n",
    "model_age.add(layers.Conv2D(filters=16, kernel_size=3, strides=1, padding=\"SAME\", activation=\"relu\"))\n",
    "model_age.add(layers.MaxPool2D(pool_size=2, strides=2, padding=\"SAME\"))\n",
    "model_age.add(layers.Conv2D(filters=32, kernel_size=3, strides=1, padding=\"SAME\", activation=\"relu\"))\n",
    "model_age.add(layers.MaxPool2D(pool_size=2, strides=2, padding=\"SAME\"))\n",
    "#model_age.add(layers.Conv2D(filters=128, kernel_size=3, strides=1, padding=\"SAME\", activation=\"relu\"))\n",
    "#model_age.add(layers.MaxPool2D(pool_size=2, strides=2, padding=\"SAME\"))\n",
    "model_age.add(layers.Flatten())\n",
    "model_age.add(layers.Dense(128))\n",
    "model_age.add(layers.Dropout(0.2))\n",
    "model_age.add(layers.Dense(units=1))\n",
    "\n",
    "model_age.summary()\n"
   ]
  },
  {
   "cell_type": "code",
   "execution_count": 54,
   "metadata": {
    "id": "aWLVhocxbgXZ"
   },
   "outputs": [],
   "source": [
    "model_age.compile(\n",
    "    optimizer=\"adam\",\n",
    "    loss='mean_squared_error',\n",
    "    metrics=['mae']\n",
    ")"
   ]
  },
  {
   "cell_type": "code",
   "execution_count": 55,
   "metadata": {
    "colab": {
     "base_uri": "https://localhost:8080/"
    },
    "id": "aZsyjIAzbgXd",
    "outputId": "439d8e3f-12cb-446b-e365-b995621b0002"
   },
   "outputs": [
    {
     "name": "stdout",
     "output_type": "stream",
     "text": [
      "Epoch 1/50\n",
      "152/152 [==============================] - 29s 190ms/step - loss: 332.0562 - mae: 14.2448 - val_loss: 263.5002 - val_mae: 12.8360\n",
      "Epoch 2/50\n",
      "152/152 [==============================] - 31s 201ms/step - loss: 202.4585 - mae: 11.0907 - val_loss: 182.0053 - val_mae: 10.7498\n",
      "Epoch 3/50\n",
      "152/152 [==============================] - 31s 205ms/step - loss: 173.4607 - mae: 10.2313 - val_loss: 180.8788 - val_mae: 10.9361\n",
      "Epoch 4/50\n",
      "152/152 [==============================] - 31s 204ms/step - loss: 165.6084 - mae: 10.0105 - val_loss: 156.3963 - val_mae: 9.8036\n",
      "Epoch 5/50\n",
      "152/152 [==============================] - 32s 209ms/step - loss: 151.8795 - mae: 9.6001 - val_loss: 151.2883 - val_mae: 9.3576\n",
      "Epoch 6/50\n",
      "152/152 [==============================] - 32s 208ms/step - loss: 149.1043 - mae: 9.4973 - val_loss: 147.6568 - val_mae: 9.2124\n",
      "Epoch 7/50\n",
      "152/152 [==============================] - 31s 205ms/step - loss: 140.6990 - mae: 9.2355 - val_loss: 133.8315 - val_mae: 8.8390\n",
      "Epoch 8/50\n",
      "152/152 [==============================] - 35s 228ms/step - loss: 135.6547 - mae: 9.0672 - val_loss: 131.8969 - val_mae: 8.7715\n",
      "Epoch 9/50\n",
      "152/152 [==============================] - 33s 218ms/step - loss: 131.0989 - mae: 8.8969 - val_loss: 130.0765 - val_mae: 8.6674\n",
      "Epoch 10/50\n",
      "152/152 [==============================] - 39s 257ms/step - loss: 126.3690 - mae: 8.7633 - val_loss: 133.2172 - val_mae: 8.6601\n",
      "Epoch 11/50\n",
      "152/152 [==============================] - 30s 196ms/step - loss: 125.5244 - mae: 8.6985 - val_loss: 119.3301 - val_mae: 8.5806\n",
      "Epoch 12/50\n",
      "152/152 [==============================] - 34s 222ms/step - loss: 121.4165 - mae: 8.5672 - val_loss: 119.3171 - val_mae: 8.2709\n",
      "Epoch 13/50\n",
      "152/152 [==============================] - 33s 218ms/step - loss: 122.0506 - mae: 8.6081 - val_loss: 111.0221 - val_mae: 8.1763\n",
      "Epoch 14/50\n",
      "152/152 [==============================] - 29s 193ms/step - loss: 116.3077 - mae: 8.3947 - val_loss: 111.5169 - val_mae: 8.1144\n",
      "Epoch 15/50\n",
      "152/152 [==============================] - 32s 211ms/step - loss: 115.7714 - mae: 8.3928 - val_loss: 114.0444 - val_mae: 8.5156\n",
      "Epoch 16/50\n",
      "152/152 [==============================] - 30s 200ms/step - loss: 110.1296 - mae: 8.1538 - val_loss: 110.0441 - val_mae: 8.1071\n",
      "Epoch 17/50\n",
      "152/152 [==============================] - 36s 234ms/step - loss: 109.1542 - mae: 8.1371 - val_loss: 106.9508 - val_mae: 8.1810\n",
      "Epoch 18/50\n",
      "152/152 [==============================] - 33s 218ms/step - loss: 109.2867 - mae: 8.1155 - val_loss: 114.3969 - val_mae: 8.6546\n",
      "Epoch 19/50\n",
      "152/152 [==============================] - 33s 220ms/step - loss: 107.1459 - mae: 8.0712 - val_loss: 125.1997 - val_mae: 8.5403\n",
      "Epoch 20/50\n",
      "152/152 [==============================] - 34s 221ms/step - loss: 108.0531 - mae: 8.0834 - val_loss: 128.5148 - val_mae: 9.3238\n",
      "Epoch 21/50\n",
      "152/152 [==============================] - 33s 219ms/step - loss: 104.4029 - mae: 7.9381 - val_loss: 103.9715 - val_mae: 7.9167\n",
      "Epoch 22/50\n",
      "152/152 [==============================] - 34s 221ms/step - loss: 103.8277 - mae: 7.9208 - val_loss: 105.7423 - val_mae: 8.2502\n",
      "Epoch 23/50\n",
      "152/152 [==============================] - 34s 225ms/step - loss: 101.7932 - mae: 7.8510 - val_loss: 102.6992 - val_mae: 7.8286\n",
      "Epoch 24/50\n",
      "152/152 [==============================] - 34s 226ms/step - loss: 99.8957 - mae: 7.7956 - val_loss: 104.8011 - val_mae: 8.1462\n",
      "Epoch 25/50\n",
      "152/152 [==============================] - 34s 225ms/step - loss: 102.7781 - mae: 7.8881 - val_loss: 105.5086 - val_mae: 8.1782\n",
      "Epoch 26/50\n",
      "152/152 [==============================] - 35s 227ms/step - loss: 101.9399 - mae: 7.8527 - val_loss: 104.5294 - val_mae: 7.9264\n",
      "Epoch 27/50\n",
      "152/152 [==============================] - 36s 236ms/step - loss: 97.8701 - mae: 7.7164 - val_loss: 118.9025 - val_mae: 8.8240\n",
      "Epoch 28/50\n",
      "152/152 [==============================] - 35s 228ms/step - loss: 98.4654 - mae: 7.7392 - val_loss: 100.7036 - val_mae: 7.8023\n",
      "Epoch 29/50\n",
      "152/152 [==============================] - 34s 227ms/step - loss: 97.0623 - mae: 7.6853 - val_loss: 124.5871 - val_mae: 9.1452\n",
      "Epoch 30/50\n",
      "152/152 [==============================] - 35s 227ms/step - loss: 95.9975 - mae: 7.6414 - val_loss: 98.8179 - val_mae: 7.7604\n",
      "Epoch 31/50\n",
      "152/152 [==============================] - 35s 229ms/step - loss: 97.0106 - mae: 7.6855 - val_loss: 103.5401 - val_mae: 7.9687\n",
      "Epoch 32/50\n",
      "152/152 [==============================] - 34s 223ms/step - loss: 94.7489 - mae: 7.5703 - val_loss: 115.1509 - val_mae: 8.7299\n",
      "Epoch 33/50\n",
      "152/152 [==============================] - 35s 229ms/step - loss: 92.8035 - mae: 7.5046 - val_loss: 103.1696 - val_mae: 7.8074\n",
      "Epoch 34/50\n",
      "152/152 [==============================] - 35s 229ms/step - loss: 93.7989 - mae: 7.5487 - val_loss: 117.3896 - val_mae: 8.2704\n",
      "Epoch 35/50\n",
      "152/152 [==============================] - 35s 229ms/step - loss: 93.7449 - mae: 7.5484 - val_loss: 98.5809 - val_mae: 7.7480\n",
      "Epoch 36/50\n",
      "152/152 [==============================] - 32s 208ms/step - loss: 92.7908 - mae: 7.5034 - val_loss: 133.6093 - val_mae: 8.6599\n",
      "Epoch 37/50\n",
      "152/152 [==============================] - 36s 240ms/step - loss: 90.1676 - mae: 7.3994 - val_loss: 100.4984 - val_mae: 8.0398\n",
      "Epoch 38/50\n",
      "152/152 [==============================] - 34s 225ms/step - loss: 91.2479 - mae: 7.4443 - val_loss: 101.8484 - val_mae: 7.8434\n",
      "Epoch 39/50\n",
      "152/152 [==============================] - 33s 220ms/step - loss: 89.8652 - mae: 7.3989 - val_loss: 100.1079 - val_mae: 7.8954\n",
      "Epoch 40/50\n",
      "152/152 [==============================] - 32s 213ms/step - loss: 87.7506 - mae: 7.3084 - val_loss: 102.9371 - val_mae: 8.1264\n",
      "Epoch 41/50\n",
      "152/152 [==============================] - 33s 214ms/step - loss: 87.8964 - mae: 7.3299 - val_loss: 100.8566 - val_mae: 7.8345\n",
      "Epoch 42/50\n",
      "152/152 [==============================] - 32s 213ms/step - loss: 88.1660 - mae: 7.3047 - val_loss: 100.0138 - val_mae: 7.8378\n",
      "Epoch 43/50\n",
      "152/152 [==============================] - 33s 215ms/step - loss: 87.8643 - mae: 7.3026 - val_loss: 100.6946 - val_mae: 7.9170\n",
      "Epoch 44/50\n",
      "152/152 [==============================] - 35s 229ms/step - loss: 88.4931 - mae: 7.3289 - val_loss: 97.8267 - val_mae: 7.8021\n",
      "Epoch 45/50\n",
      "152/152 [==============================] - 33s 220ms/step - loss: 89.8862 - mae: 7.3886 - val_loss: 99.9604 - val_mae: 7.8150\n",
      "Epoch 46/50\n",
      "152/152 [==============================] - 32s 212ms/step - loss: 87.3115 - mae: 7.2751 - val_loss: 121.9461 - val_mae: 8.3824\n",
      "Epoch 47/50\n",
      "152/152 [==============================] - 32s 210ms/step - loss: 86.0223 - mae: 7.2324 - val_loss: 100.8832 - val_mae: 7.8532\n",
      "Epoch 48/50\n",
      "152/152 [==============================] - 33s 214ms/step - loss: 86.4501 - mae: 7.2698 - val_loss: 105.4303 - val_mae: 7.9486\n",
      "Epoch 49/50\n",
      "152/152 [==============================] - 32s 211ms/step - loss: 85.7198 - mae: 7.2233 - val_loss: 97.1074 - val_mae: 7.7425\n",
      "Epoch 50/50\n",
      "152/152 [==============================] - 32s 213ms/step - loss: 85.2902 - mae: 7.2034 - val_loss: 104.0803 - val_mae: 7.9292\n"
     ]
    }
   ],
   "source": [
    "history = model_age.fit(\n",
    "    x=x_train,\n",
    "    y=y_train,\n",
    "    batch_size=100,\n",
    "    epochs=50,\n",
    "    validation_split=0.05\n",
    ")"
   ]
  },
  {
   "cell_type": "code",
   "execution_count": 56,
   "metadata": {
    "colab": {
     "base_uri": "https://localhost:8080/"
    },
    "id": "5T0U9ZasbgXm",
    "outputId": "3ca991ae-0547-49a0-a633-ba4d1eb2b05a"
   },
   "outputs": [
    {
     "data": {
      "text/plain": [
       "dict_keys(['loss', 'mae', 'val_loss', 'val_mae'])"
      ]
     },
     "execution_count": 56,
     "metadata": {},
     "output_type": "execute_result"
    }
   ],
   "source": [
    "history.history.keys()"
   ]
  },
  {
   "cell_type": "code",
   "execution_count": 57,
   "metadata": {
    "id": "1xoadb_ZbgXy"
   },
   "outputs": [],
   "source": [
    "x_test = x_test.reshape(-1,48,48,1)"
   ]
  },
  {
   "cell_type": "code",
   "execution_count": 58,
   "metadata": {
    "id": "V0ZUWZOwbgX-"
   },
   "outputs": [],
   "source": [
    "y_pred = model_age.predict(x_test)"
   ]
  },
  {
   "cell_type": "code",
   "execution_count": 59,
   "metadata": {
    "colab": {
     "base_uri": "https://localhost:8080/",
     "height": 282
    },
    "id": "wK03kqE1bgYE",
    "outputId": "db16bc04-d9c2-4370-b3ec-9347337f0c39"
   },
   "outputs": [
    {
     "data": {
      "image/png": "[encoded data removed]",
      "text/plain": [
       "<Figure size 432x288 with 1 Axes>"
      ]
     },
     "metadata": {
      "needs_background": "light"
     },
     "output_type": "display_data"
    }
   ],
   "source": [
    "plt.plot(history.history['loss'])\n",
    "plt.xlabel(\"epochs\")\n",
    "plt.ylabel(\"mean_squared_error\")\n",
    "plt.title(\"Mean Squared Error evolution\")\n",
    "plt.show()"
   ]
  },
  {
   "cell_type": "code",
   "execution_count": 60,
   "metadata": {},
   "outputs": [
    {
     "data": {
      "image/png": "[encoded data removed]",
      "text/plain": [
       "<Figure size 432x288 with 1 Axes>"
      ]
     },
     "metadata": {
      "needs_background": "light"
     },
     "output_type": "display_data"
    }
   ],
   "source": [
    "plt.plot(history.history['val_loss'])\n",
    "plt.xlabel(\"epochs\")\n",
    "plt.ylabel(\"mean_squared_error\")\n",
    "plt.title(\"Mean Squared Error evolution (validation)\")\n",
    "plt.show()"
   ]
  },
  {
   "cell_type": "code",
   "execution_count": 61,
   "metadata": {
    "colab": {
     "base_uri": "https://localhost:8080/",
     "height": 267
    },
    "id": "kmlKKzI7bgYJ",
    "outputId": "d9bbb548-3e68-45eb-bfbf-e420e9ab2221"
   },
   "outputs": [
    {
     "data": {
      "image/png": "[encoded data removed]",
      "text/plain": [
       "<Figure size 432x288 with 1 Axes>"
      ]
     },
     "metadata": {
      "needs_background": "light"
     },
     "output_type": "display_data"
    }
   ],
   "source": [
    "num = 1456\n",
    "plt.imshow(x_test[num].reshape(48,48), cmap=\"gray\")\n",
    "plt.show()"
   ]
  },
  {
   "cell_type": "code",
   "execution_count": 62,
   "metadata": {
    "id": "m-PtHpFKbgYO"
   },
   "outputs": [],
   "source": [
    "x1 = x_test[num].reshape(1,48,48,1)"
   ]
  },
  {
   "cell_type": "code",
   "execution_count": 63,
   "metadata": {
    "colab": {
     "base_uri": "https://localhost:8080/"
    },
    "id": "UUg74MzQbgYU",
    "outputId": "4cfa993b-fbb8-43bb-bbad-7a2b7603901a"
   },
   "outputs": [
    {
     "data": {
      "text/plain": [
       "array([[55.71497]], dtype=float32)"
      ]
     },
     "execution_count": 63,
     "metadata": {},
     "output_type": "execute_result"
    }
   ],
   "source": [
    "y1 = model_age.predict(x1)\n",
    "y1"
   ]
  },
  {
   "cell_type": "code",
   "execution_count": 64,
   "metadata": {
    "colab": {
     "base_uri": "https://localhost:8080/"
    },
    "id": "WYVpbB9bbgYc",
    "outputId": "1fd7d26d-5ee0-4a1c-fbd6-8884d9429c9c"
   },
   "outputs": [
    {
     "data": {
      "text/plain": [
       "59.0"
      ]
     },
     "execution_count": 64,
     "metadata": {},
     "output_type": "execute_result"
    }
   ],
   "source": [
    "y_test[num]"
   ]
  },
  {
   "cell_type": "code",
   "execution_count": 65,
   "metadata": {},
   "outputs": [
    {
     "data": {
      "text/plain": [
       "10.242794"
      ]
     },
     "execution_count": 65,
     "metadata": {},
     "output_type": "execute_result"
    }
   ],
   "source": [
    "from sklearn.metrics import mean_squared_error as mse\n",
    "RMSE = np.sqrt(mse(y_test, y_pred))\n",
    "RMSE"
   ]
  },
  {
   "cell_type": "code",
   "execution_count": 66,
   "metadata": {},
   "outputs": [
    {
     "name": "stdout",
     "output_type": "stream",
     "text": [
      "WARNING:tensorflow:From /home/joanna/anaconda3/envs/tf/lib/python3.8/site-packages/tensorflow/python/ops/resource_variable_ops.py:1813: calling BaseResourceVariable.__init__ (from tensorflow.python.ops.resource_variable_ops) with constraint is deprecated and will be removed in a future version.\n",
      "Instructions for updating:\n",
      "If using Keras pass *_constraint arguments to layers.\n",
      "INFO:tensorflow:Assets written to: saved_model/model_age_no_children/assets\n"
     ]
    }
   ],
   "source": [
    "model_age.save('saved_model/model_age_no_children')"
   ]
  },
  {
   "cell_type": "code",
   "execution_count": null,
   "metadata": {},
   "outputs": [],
   "source": []
  }
 ],
 "metadata": {
  "colab": {
   "name": "zdjecia_gc.ipynb",
   "provenance": []
  },
  "kernelspec": {
   "display_name": "Python 3",
   "language": "python",
   "name": "python3"
  },
  "language_info": {
   "codemirror_mode": {
    "name": "ipython",
    "version": 3
   },
   "file_extension": ".py",
   "mimetype": "text/x-python",
   "name": "python",
   "nbconvert_exporter": "python",
   "pygments_lexer": "ipython3",
   "version": "3.8.5"
  }
 },
 "nbformat": 4,
 "nbformat_minor": 1
}
